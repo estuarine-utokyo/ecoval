{
 "cells": [
  {
   "cell_type": "markdown",
   "metadata": {},
   "source": [
    "# Validation of near-bottom ices_variable "
   ]
  },
  {
   "cell_type": "code",
   "execution_count": null,
   "metadata": {
    "tags": [
     "remove-cell"
    ]
   },
   "outputs": [],
   "source": [
    "# bin_value using function from r4ecology's github\n",
    "import numpy as np\n",
    "def bin_value(x, bin_res):\n",
    "    return np.floor((x + bin_res / 2) / bin_res + 0.5) * bin_res - bin_res / 2\n"
   ]
  },
  {
   "cell_type": "code",
   "execution_count": null,
   "metadata": {
    "tags": [
     "remove-cell"
    ]
   },
   "outputs": [],
   "source": [
    "chunk_start"
   ]
  },
  {
   "cell_type": "code",
   "execution_count": null,
   "metadata": {
    "tags": [
     "remove-cell"
    ]
   },
   "outputs": [],
   "source": [
    "variable = \"ices_variable\"\n",
    "# get the units. File inspection could be randomized in case people have put loose files in there...\n",
    "import glob\n",
    "df = pd.read_csv(\"../../matched/mapping.csv\")\n",
    "df = df.query(\"variable == @variable\")\n",
    "pattern = list(df.pattern)[0]\n",
    "while True:\n",
    "    i = 0\n",
    "    patterns = pattern.split(\"/\")\n",
    "    for x in patterns:\n",
    "        if x == \"**\":\n",
    "            break\n",
    "        i+=1\n",
    "    new_pattern = glob.glob(\"/\".join(patterns[0:i])+\"/\" + \"**\" )[-1].split(\"/\")[-1]\n",
    "    patterns[i] = new_pattern\n",
    "    pattern = \"/\".join(patterns)\n",
    "\n",
    "    \n",
    "    if len([x for x in pattern.split(\"/\") if x == \"**\"]) == 0:\n",
    "        break\n",
    "paths = glob.glob(pattern)\n",
    "ds = nc.open_data(paths[0])\n",
    "model_variable = list(df.model_variable)[0]\n",
    "unit = list(ds.contents.query(\"variable == @model_variable\").unit)[0]"
   ]
  },
  {
   "cell_type": "markdown",
   "metadata": {
    "tags": [
     "remove-cell"
    ]
   },
   "source": [
    "## Read in the data"
   ]
  },
  {
   "cell_type": "code",
   "execution_count": null,
   "metadata": {
    "tags": [
     "remove-input",
     "remove-cell"
    ]
   },
   "outputs": [],
   "source": [
    "df = pd.read_csv(f\"../../matched/ices/bottom/ices_bottom_{variable}.csv\")\n",
    "# Danish part is always dubious\n",
    "df = df.query(\"lon < 9\")\n",
    "ds= nc.open_data(f\"{data_dir}/amm7_val_subdomains.nc\")\n",
    "ds.subset(variable = \"Shelf\")\n",
    "ds.as_missing(0)\n",
    "ds.regrid(df.loc[:,[\"lon\", \"lat\"]], \"nn\")\n",
    "df_grid = ds.to_dataframe().reset_index().dropna().drop_duplicates()\n",
    "df = df.merge(df_grid)\n",
    "df_locs = df.loc[:,[\"lon\", \"lat\"]].drop_duplicates()\n",
    "# bin to 0.01 resolution\n",
    "df_raw = df\n",
    "df[\"lon\"] = df[\"lon\"].apply(lambda x: bin_value(x, 0.5))\n",
    "df[\"lat\"] = df[\"lat\"].apply(lambda x: bin_value(x, 0.5))\n",
    "df = df.groupby([\"lon\", \"lat\", \"year\", \"month\"]).mean().reset_index()"
   ]
  },
  {
   "cell_type": "code",
   "execution_count": null,
   "metadata": {
    "tags": [
     "remove-input"
    ]
   },
   "outputs": [],
   "source": [
    "md(f\"Near-bottom values of {variable} were extracted from ICES bottle and CTD data.\")\n",
    "md(f\"This data was extracted from vertical profiles. The near-bottom value was defined as the value closest to the bottom, that was within 5 m of the bottom. Bathymetry was estimated using GEBCO Bathymetry data.\")\n",
    "\n",
    "md(f\"In total there were {len(df)} near-bottom values extracted from the  ICES database.\")\n",
    "\n",
    "md(\"**Note:** this analysis has been restricted to observations on the shelf region.\")\n",
    "\n",
    "md(f\"Data for {variable} was downloaded from the ICES website on 3rd March 2023. The data is available from [ICES](https://data.ices.dk/view-map).\") \n",
    "\n"
   ]
  },
  {
   "cell_type": "code",
   "execution_count": null,
   "metadata": {
    "tags": [
     "remove-cell"
    ]
   },
   "outputs": [],
   "source": [
    "# bottom 1% of observations\n",
    "bot_low = df.observation.quantile(0.001)\n",
    "df = df.query(f\"observation >= {bot_low}\")"
   ]
  },
  {
   "cell_type": "code",
   "execution_count": null,
   "metadata": {
    "tags": [
     "remove-input"
    ]
   },
   "outputs": [],
   "source": [
    "%%capture --no-display\n",
    "%%R -i df_locs -i variable -i unit -w 1000 -h 1200\n",
    "library(tidyverse, warn.conflicts = FALSE)\n",
    "world_map <- map_data(\"world\")\n",
    "# get lon, lat limits from profile_mld\n",
    "\n",
    "xlim = c(min(df_locs$lon), max(df_locs$lon))\n",
    "ylim = c(min(df_locs$lat), max(df_locs$lat))\n",
    "\n",
    "\n",
    "\n",
    "gg <- df_locs %>%\n",
    "# final six months of the year\n",
    "    ggplot()+\n",
    "    geom_point(aes(lon, lat))+\n",
    "    theme_gray(base_size = 24)+\n",
    "    # add colour scale. Minimum zero, label 100, \">100\"\n",
    "    geom_polygon(data = world_map, aes(long, lat, group = group), fill = \"grey60\")+\n",
    "    coord_fixed(xlim = xlim, ylim = ylim, ratio = 1.5) \n",
    "\n",
    "# figure out if lon minimum is less than -10\n",
    "if( min(df_locs$lon) < -10 ){\n",
    "    # add sensible labels for longitude and latitude\n",
    "\n",
    "    gg <- gg +\n",
    "    scale_x_continuous(breaks = seq(-10, 5, 5), labels = c(\"10°W\", \"5°W\", \"0°\", \"5°E\"))+ \n",
    "    scale_y_continuous(breaks = seq(45, 60, 5), labels = c(\"45°N\", \"50°N\", \"55°N\", \"60°N\"))+\n",
    "    labs(x = \"\", y = \"\") \n",
    "\n",
    "\n",
    "}\n",
    "\n",
    "    # move legen\n",
    "\n",
    "gg"
   ]
  },
  {
   "cell_type": "code",
   "execution_count": null,
   "metadata": {
    "tags": [
     "remove-input"
    ]
   },
   "outputs": [],
   "source": [
    "md(f\"**Figure {i_figure}:** Map of near-bottom {variable} observations from ICES.\")"
   ]
  },
  {
   "cell_type": "code",
   "execution_count": null,
   "metadata": {
    "tags": [
     "remove-input"
    ]
   },
   "outputs": [],
   "source": [
    "# calculate number of observations per month\n",
    "import calendar\n",
    "df1 = df.groupby([\"lon\", \"lat\", \"month\"]).count().reset_index()\n",
    "# plot number of observations per month using plotnine and geom_bar\n",
    "# convert month to jan, feb, etc.\n",
    "gg = (\n",
    "    ggplot(df1, aes(x=\"month\", y=\"observation\")) + \n",
    "    geom_bar(stat=\"identity\")+\n",
    "    scale_x_continuous(breaks=range(1,13), labels=list(calendar.month_abbr[1:]))+\n",
    "    labs(y = \"Number of observations\", x= \"\")\n",
    ")\n",
    "gg = gg.draw()\n",
    "gg\n"
   ]
  },
  {
   "cell_type": "code",
   "execution_count": null,
   "metadata": {
    "tags": [
     "remove-input"
    ]
   },
   "outputs": [],
   "source": [
    "md(f\"**Figure {i_figure}:** Number of near-bottom observations per month for {variable}.\")\n",
    "i_figure += 1"
   ]
  },
  {
   "cell_type": "code",
   "execution_count": null,
   "metadata": {
    "tags": [
     "remove-input"
    ]
   },
   "outputs": [],
   "source": [
    "%%capture --no-display\n",
    "%%R -i df -i variable -i unit -w 1000 -h 1200\n",
    "#%%R -i df -i variable -i unit -w 1600 -h 1000\n",
    "\n",
    "library(tidyverse, warn.conflicts = FALSE)\n",
    "world_map <- map_data(\"world\")\n",
    "# get lon, lat limits from profile_mld\n",
    "\n",
    "xlim = c(min(df$lon), max(df$lon))\n",
    "ylim = c(min(df$lat), max(df$lat))\n",
    "\n",
    "\n",
    "df <- df %>%\n",
    "    mutate(bias = model - observation) \n",
    "\n",
    "# calculate the absolate bias\n",
    "\n",
    "df1 <- df %>%\n",
    "    mutate(bias = abs(bias))\n",
    "# calculate the 98th percentile of the absolute bias\n",
    "bias_high <- df1$bias %>% quantile(0.98)\n",
    "# cap the bias to +/1 98th percentile\n",
    "df$bias[df$bias > bias_high] <- bias_high\n",
    "df$bias[df$bias < -bias_high] <- -bias_high\n",
    "\n",
    "\n",
    "# # convert month number to month in profile_mld\n",
    "df <- df %>%\n",
    "    arrange(month)\n",
    "df$month <- factor(df$month, levels = df$month, labels = month.abb[df$month])\n",
    "# df$month <- factor(df$month, labels = month.abb)\n",
    "\n",
    "title <- str_glue(\"Bias in bottom {variable} ({unit})\")\n",
    "\n",
    "\n",
    "\n",
    "gg <- df %>%\n",
    "# final six months of the year\n",
    "    ggplot()+\n",
    "    geom_raster(aes(lon, lat, fill = bias))+\n",
    "    facet_wrap(~month)+\n",
    "    theme_gray(base_size = 24)+\n",
    "    # add colour scale. Minimum zero, label 100, \">100\"\n",
    "    geom_polygon(data = world_map, aes(long, lat, group = group), fill = \"grey60\")+\n",
    "    coord_fixed(xlim = xlim, ylim = ylim, ratio = 1.5) +\n",
    "    # move legend to the top. Make it 3 cm wide\n",
    "    # move legend title to the bottom and centre it\n",
    "    scale_fill_gradient2(low = \"blue\", high = \"red\",\n",
    "                       guide = guide_colorbar(title.position = \"bottom\", title.hjust = 0.5, title.theme = element_text(angle = 0, size = 20, family = \"Helvetica\"))\n",
    "  )+\n",
    "    theme(\n",
    "    legend.position = \"bottom\", legend.direction = \"horizontal\", legend.box = \"horizontal\", legend.key.width = unit(6.0, \"cm\"),\n",
    "    legend.key.height = unit(1.0, \"cm\"))+\n",
    "    # set the legend title to bias\n",
    "    labs(fill = title)\n",
    "\n",
    "# figure out if lon minimum is less than -10\n",
    "if( min(df$lon) < -10 ){\n",
    "    # add sensible labels for longitude and latitude\n",
    "\n",
    "    gg <- gg +\n",
    "    scale_x_continuous(breaks = seq(-10, 5, 5), labels = c(\"10°W\", \"5°W\", \"0°\", \"5°E\"))+ \n",
    "    scale_y_continuous(breaks = seq(45, 60, 5), labels = c(\"45°N\", \"50°N\", \"55°N\", \"60°N\"))+\n",
    "    labs(x = \"\", y = \"\") \n",
    "\n",
    "\n",
    "}\n",
    "\n",
    "    # move legen\n",
    "\n",
    "gg"
   ]
  },
  {
   "cell_type": "code",
   "execution_count": null,
   "metadata": {
    "tags": [
     "remove-input"
    ]
   },
   "outputs": [],
   "source": [
    "md(f\"**Figure {i_figure}**: Bias in near-bottom {variable}. The bias is calculated as model - observation. The colour scale is from blue (negative bias) to red (positive bias). The colour scale is capped at the 98th percentile of the absolute bias. This is to avoid a few extreme outliers from dominating the colour scale. **Note:** values have been binned and averaged to 0.5 degree resolution.\") \n",
    "i_figure += 1"
   ]
  },
  {
   "cell_type": "code",
   "execution_count": null,
   "metadata": {
    "tags": [
     "remove-input"
    ]
   },
   "outputs": [],
   "source": [
    "%%capture --no-display\n",
    "%%R -i df_raw -i variable -i unit -w 1000 -h 1200\n",
    "#%%R -i df -i variable -i unit -w 1600 -h 1000\n",
    "\n",
    "library(tidyverse, warn.conflicts = FALSE)\n",
    "\n",
    "\n",
    "\n",
    "\n",
    "# # convert month number to month in profile_mld\n",
    "df <- df_raw %>%\n",
    "    arrange(month)\n",
    "df$month <- factor(df$month, levels = df$month, labels = month.abb[df$month])\n",
    "# df$month <- factor(df$month, labels = month.abb)\n",
    "\n",
    "x_lab <- str_glue(\"Model {variable} ({unit})\")\n",
    "y_lab <- str_glue(\"Observed {variable} ({unit})\")\n",
    "\n",
    "\n",
    "gg <- df %>%\n",
    "# final six months of the year\n",
    "    ggplot()+\n",
    "    geom_point(aes(model, observation))+\n",
    "    facet_wrap(~month)+\n",
    "    theme_gray(base_size = 24)+\n",
    "    labs(fill = title)+\n",
    "    geom_abline()+\n",
    "    geom_smooth(aes(model, observation), method = \"gam\")+\n",
    "    labs(x = x_lab, y = y_lab)\n",
    "    # move legen\n",
    "\n",
    "gg"
   ]
  },
  {
   "cell_type": "code",
   "execution_count": null,
   "metadata": {
    "tags": [
     "remove-input"
    ]
   },
   "outputs": [],
   "source": [
    "md(f\"**Figure {i_figure}**: Model vs observed {variable} for near-bottom values. The observations are from ICES bottle and CTD data. 5 degree resolution. The line is a GAM fit to the data. The shaded area is the 95% confidence interval of the GAM fit.\")\n",
    "i_figure += 1"
   ]
  },
  {
   "cell_type": "markdown",
   "metadata": {},
   "source": [
    "## Summary statistics"
   ]
  },
  {
   "cell_type": "code",
   "execution_count": null,
   "metadata": {
    "tags": [
     "remove-input"
    ]
   },
   "outputs": [],
   "source": [
    "md(f\"The overall ability of the model to predict the observed {variable} was assessed by calculating the average bias, the root mean square error (RMSE) and the correlation coefficient (R). The bias was calculated as the model value minus the observed value. The RMSE was calculated as the square root of the mean squared error. The correlation coefficient was calculated as the Pearson correlation coefficient between the model and observed values.\") \n",
    "md(f\"This was calculated for each month and for the entire dataset. The results are shown in the tables below.\")\n",
    "md(f\"This is calculated in two separate ways. First, we use the raw model and observed values. Second, we use data that was averaged to 0.5 to 0.5 bins to account for spatial bias.\")"
   ]
  },
  {
   "cell_type": "code",
   "execution_count": null,
   "metadata": {
    "tags": [
     "remove-input"
    ]
   },
   "outputs": [],
   "source": [
    "df_bias = (\n",
    "    df_raw\n",
    "    .assign(bias = lambda x: x.model - x.observation)\n",
    "    .groupby(\"month\")\n",
    "    .mean()\n",
    "    .reset_index()\n",
    "    .loc[:,[\"month\", \"bias\"]]\n",
    "    # convert month number to name\n",
    "    .assign(month = lambda x: x.month.apply(lambda y: calendar.month_abbr[y]))\n",
    ")\n",
    "# add average bias to df_bias as a separate row\n",
    "annual_bias = df_raw.model.mean() - df_raw.observation.mean() \n",
    "df_bias = df_bias.append({\"month\": \"All\", \"bias\": annual_bias}, ignore_index=True)\n",
    "\n",
    "# move the final row to the top\n",
    "df_bias = df_bias.iloc[[-1]].append(df_bias.iloc[:-1])\n",
    "# now create an rmse dataframe\n",
    "df_rmse = (\n",
    "    df_raw\n",
    "    .assign(month = lambda x: x.month.apply(lambda y: calendar.month_abbr[y]))\n",
    "    .groupby(\"month\")\n",
    "    .apply(lambda x: np.sqrt((x.model - x.observation).pow(2).mean()))\n",
    "    .reset_index()\n",
    "    .rename(columns={0: \"rmse\"})\n",
    ")\n",
    "# add average rmse to df_rmse as a separate row\n",
    "annual_rmse = np.sqrt(((df_raw.model - df_raw.observation).pow(2)).mean())\n",
    "df_rmse = df_rmse.append({\"month\": \"All\", \"rmse\": annual_rmse}, ignore_index=True)\n",
    "# move the final row to the top\n",
    "df_rmse = df_rmse.iloc[[-1]].append(df_rmse.iloc[:-1])\n",
    "# rename the month column to Month\n",
    "# merge the two dataframes\n",
    "df_table = df_bias.merge(df_rmse)\n",
    "df_table = df_table.round(2)\n",
    "# df_table = df_table.rename(columns={\"month\": \"Month\", \"bias\": \"Bias\", \"rmse\": \"RMSE\"})\n",
    "# df_table = df_table[[\"Month\", \"Bias\", \"RMSE\"]]\n",
    "# create df_corr\n",
    "df_corr = (\n",
    "    df_raw\n",
    "    .groupby(\"month\")\n",
    "    .apply(lambda x: x.model.corr(x.observation))\n",
    "    .reset_index()\n",
    "    .rename(columns={0: \"correlation\"})\n",
    "    .assign(month = lambda x: x.month.apply(lambda y: calendar.month_abbr[y]))\n",
    ")\n",
    "# add average correlation to df_corr as a separate row\n",
    "# calculate annual correlation using all data\n",
    "annual_corr = df_raw.model.corr(df_raw.observation)\n",
    "df_corr = df_corr.append({\"month\": \"All\", \"correlation\": annual_corr}, ignore_index=True)\n",
    "\n",
    "# move the final row to the top\n",
    "df_corr = df_corr.iloc[[-1]].append(df_corr.iloc[:-1])\n",
    "df_table = df_table.merge(df_corr)\n",
    "df_table = df_table.round(2)\n",
    "df_table = df_table.rename(columns={\"month\": \"Month\", \"bias\": \"Bias\", \"rmse\": \"RMSE\", \"correlation\": \"Correlation\"})\n",
    "df_table = df_table[[\"Month\", \"Bias\", \"RMSE\", \"Correlation\"]]\n",
    "# change Month to Period\n",
    "df_table = df_table.rename(columns={\"Month\": \"Time period\"})\n",
    "\n",
    "df_number = df_raw.groupby(\"month\").count().reset_index().loc[:,[\"month\", \"observation\"]]\n",
    "# convert month number to name\n",
    "df_number[\"month\"] = df_number[\"month\"].apply(lambda x: calendar.month_abbr[x])\n",
    "df_number = df_number.rename(columns={\"month\": \"Time period\", \"observation\": \"Number of observations\"})\n",
    "# add total number of observations\n",
    "annual_number = len(df_raw)\n",
    "df_number = df_number.append({\"Time period\": \"All\", \"Number of observations\": annual_number}, ignore_index=True)\n",
    "df_table = df_table.merge(df_number)\n",
    "\n",
    "# include commas in the number of observations\n",
    "df_table[\"Number of observations\"] = df_table[\"Number of observations\"].apply(lambda x: \"{:,}\".format(x))\n",
    "\n",
    "df_table.style.hide(axis=\"index\")"
   ]
  },
  {
   "cell_type": "code",
   "execution_count": null,
   "metadata": {
    "tags": [
     "remove-input"
    ]
   },
   "outputs": [],
   "source": [
    "md(f\"**Table {i_table}:** Average bias and root-mean square error in near-bottom {variable} for each month using the raw ICES data. The bias is calculated as model - observation. The average bias is calculated as the mean of the monthly biases.\")\n",
    "i_table += 1"
   ]
  },
  {
   "cell_type": "code",
   "execution_count": null,
   "metadata": {
    "tags": [
     "remove-input"
    ]
   },
   "outputs": [],
   "source": [
    "df_bias = (\n",
    "    df\n",
    "    .assign(bias = lambda x: x.model - x.observation)\n",
    "    .groupby(\"month\")\n",
    "    .mean()\n",
    "    .reset_index()\n",
    "    .loc[:,[\"month\", \"bias\"]]\n",
    "    # convert month number to name\n",
    "    .assign(month = lambda x: x.month.apply(lambda y: calendar.month_abbr[y]))\n",
    ")\n",
    "# add average bias to df_bias as a separate row\n",
    "annual_bias = df.model.mean() - df.observation.mean() \n",
    "df_bias = df_bias.append({\"month\": \"All\", \"bias\": annual_bias}, ignore_index=True)\n",
    "\n",
    "# move the final row to the top\n",
    "df_bias = df_bias.iloc[[-1]].append(df_bias.iloc[:-1])\n",
    "# now create an rmse dataframe\n",
    "df_rmse = (\n",
    "    df\n",
    "    .assign(month = lambda x: x.month.apply(lambda y: calendar.month_abbr[y]))\n",
    "    .groupby(\"month\")\n",
    "    .apply(lambda x: np.sqrt((x.model - x.observation).pow(2).mean()))\n",
    "    .reset_index()\n",
    "    .rename(columns={0: \"rmse\"})\n",
    ")\n",
    "# add average rmse to df_rmse as a separate row\n",
    "annual_rmse = np.sqrt(((df.model - df.observation).pow(2)).mean())\n",
    "df_rmse = df_rmse.append({\"month\": \"All\", \"rmse\": annual_rmse}, ignore_index=True)\n",
    "# move the final row to the top\n",
    "df_rmse = df_rmse.iloc[[-1]].append(df_rmse.iloc[:-1])\n",
    "# rename the month column to Month\n",
    "# merge the two dataframes\n",
    "df_table = df_bias.merge(df_rmse)\n",
    "df_table = df_table.round(2)\n",
    "# df_table = df_table.rename(columns={\"month\": \"Month\", \"bias\": \"Bias\", \"rmse\": \"RMSE\"})\n",
    "# df_table = df_table[[\"Month\", \"Bias\", \"RMSE\"]]\n",
    "# create df_corr\n",
    "df_corr = (\n",
    "    df\n",
    "    .groupby(\"month\")\n",
    "    .apply(lambda x: x.model.corr(x.observation))\n",
    "    .reset_index()\n",
    "    .rename(columns={0: \"correlation\"})\n",
    "    .assign(month = lambda x: x.month.apply(lambda y: calendar.month_abbr[y]))\n",
    ")\n",
    "# add average correlation to df_corr as a separate row\n",
    "# calculate annual correlation using all data\n",
    "annual_corr = df.model.corr(df.observation)\n",
    "df_corr = df_corr.append({\"month\": \"All\", \"correlation\": annual_corr}, ignore_index=True)\n",
    "\n",
    "# move the final row to the top\n",
    "df_corr = df_corr.iloc[[-1]].append(df_corr.iloc[:-1])\n",
    "df_table = df_table.merge(df_corr)\n",
    "df_table = df_table.round(2)\n",
    "df_table = df_table.rename(columns={\"month\": \"Month\", \"bias\": \"Bias\", \"rmse\": \"RMSE\", \"correlation\": \"Correlation\"})\n",
    "df_table = df_table[[\"Month\", \"Bias\", \"RMSE\", \"Correlation\"]]\n",
    "# change Month to Period\n",
    "df_table = df_table.rename(columns={\"Month\": \"Time period\"})\n",
    "\n",
    "df_number = df_raw.groupby(\"month\").count().reset_index().loc[:,[\"month\", \"observation\"]]\n",
    "# convert month number to name\n",
    "df_number[\"month\"] = df_number[\"month\"].apply(lambda x: calendar.month_abbr[x])\n",
    "df_number = df_number.rename(columns={\"month\": \"Time period\", \"observation\": \"Number of observations\"})\n",
    "# add total number of observations\n",
    "annual_number = len(df_raw)\n",
    "df_number = df_number.append({\"Time period\": \"All\", \"Number of observations\": annual_number}, ignore_index=True)\n",
    "df_table = df_table.merge(df_number)\n",
    "\n",
    "# include commas in the number of observations\n",
    "df_table[\"Number of observations\"] = df_table[\"Number of observations\"].apply(lambda x: \"{:,}\".format(x))\n",
    "\n",
    "df_table.style.hide(axis=\"index\")"
   ]
  },
  {
   "cell_type": "code",
   "execution_count": null,
   "metadata": {
    "tags": [
     "remove-input"
    ]
   },
   "outputs": [],
   "source": [
    "md(f\"**Table {i_table}:** Average bias and root-mean square error in near-bottom {variable} for each month using binned ICES data. ICES data was averaged in each 0.5 by 0.5 degree cell in each year and month. The bias is calculated as model - observation. The average bias is calculated as the mean of the monthly biases.\")\n",
    "i_table += 1"
   ]
  },
  {
   "cell_type": "code",
   "execution_count": null,
   "metadata": {
    "tags": [
     "remove-cell"
    ]
   },
   "outputs": [],
   "source": [
    "chunk_end"
   ]
  }
 ],
 "metadata": {
  "kernelspec": {
   "display_name": "validation",
   "language": "python",
   "name": "python3"
  },
  "language_info": {
   "codemirror_mode": {
    "name": "ipython",
    "version": 3
   },
   "file_extension": ".py",
   "mimetype": "text/x-python",
   "name": "python",
   "nbconvert_exporter": "python",
   "pygments_lexer": "ipython3",
   "version": "3.9.16"
  },
  "orig_nbformat": 4
 },
 "nbformat": 4,
 "nbformat_minor": 2
}
