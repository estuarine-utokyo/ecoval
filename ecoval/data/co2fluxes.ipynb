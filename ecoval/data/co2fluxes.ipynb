{
 "cells": [
  {
   "attachments": {},
   "cell_type": "markdown",
   "id": "9f533356",
   "metadata": {},
   "source": [
    "# Carbon fluxes validation "
   ]
  },
  {
   "attachments": {},
   "cell_type": "markdown",
   "id": "3bf74ca7",
   "metadata": {},
   "source": [
    "Sea air carbon fluxes were calculated using the v2022 release of the Surface CO2 Atlas (https://www.ncei.noaa.gov/access/metadata/landing-page/bin/iso?id=gov.noaa.nodc:0160558). The Surface CO2 Atlas is a global data set of fCO2 (fugacity of carbon dioxide) in surface seawater and atmospheric pCO2 (partial pressure of carbon dioxide) with monthly resolution. The data set was developed by the NOAA National Centers for Environmental Information (NCEI) in collaboration with the University of Colorado (CU) and the NOAA Pacific Marine Environmental Laboratory (PMEL). The Surface CO2 Atlas is a gridded data set with a spatial resolution of 1° x 1° and a temporal resolution of one month. The data set covers the period from 1982 to 2021. The Surface CO2 Atlas is available as a netCDF file. The data set is updated annually. The Surface CO2 Atlas is a product of the NOAA Ocean Acidification Program (OAP) and the NOAA Ocean Observing and Monitoring Division (OOMD). The Surface CO2 Atlas is a contribution to the Global Ocean Data Analysis Project (GLODAP) and the Ocean Carbon Data System (OCADS). The Surface CO2 Atlas is a product of the NOAA Ocean Acidification Program (OAP) and the NOAA Ocean Observing and Monitoring Division (OOMD). The Surface CO2 Atlas is a contribution to the Global Ocean Data Analysis Project (GLODAP) and the Ocean Carbon Data System (OCADS).\n",
    "\n",
    "The validation was carried out for the years with overlap between the model and observational time series. The model data was regridded to the observational grid using bilinear interpolation and the model data was averaged over the same time period as the observations. \n",
    "\n",
    "We used the variable \"fgco2_smoothed\" from the observational data."
   ]
  },
  {
   "cell_type": "code",
   "execution_count": null,
   "id": "58a68d5a",
   "metadata": {
    "tags": [
     "remove-cell"
    ]
   },
   "outputs": [],
   "source": [
    "chunk_start\n",
    "variable = \"co2flux\""
   ]
  },
  {
   "cell_type": "code",
   "execution_count": null,
   "id": "647fa244",
   "metadata": {
    "tags": [
     "remove-input"
    ]
   },
   "outputs": [],
   "source": [
    "ff = \"../../matched/gridded/co2fluxes/co2fluxes.nc\"\n",
    "ds_model = nc.open_data(ff)\n",
    "mask_all(ds_model)\n",
    "years = set(ds_model.years)\n",
    "year_min = min(years)\n",
    "year_max = max(years)\n",
    "year_range = f\"{year_min}-{year_max}\"\n",
    "ds_model.subset(variable = \"model\")\n",
    "ds_model.tmean(\"month\")\n",
    "ds_model.as_missing(0)\n",
    "ds_model.run()\n",
    "ds_annual = ds_model.copy()\n",
    "ds_annual.tmean()\n",
    "ds_annual.set_longnames({\"model\": \"Sea surface carbon fluxes\"})"
   ]
  },
  {
   "cell_type": "code",
   "execution_count": null,
   "id": "1b7a7696",
   "metadata": {
    "tags": [
     "remove-input"
    ]
   },
   "outputs": [],
   "source": [
    "ds_obs = nc.open_data(ff)\n",
    "ds_obs.subset(variable = \"observation\")\n",
    "ds_obs.run()\n",
    "ds_obs.tmean(\"month\")\n",
    "ds_obs.as_missing(0)\n",
    "ds_obs.run()\n",
    "\n",
    "ds_annual_obs = ds_obs.copy()\n",
    "ds_annual_obs.tmean()\n",
    "ds_annual_obs.set_longnames({\"observation\": \"Sea surface carbon fluxes\"})\n"
   ]
  },
  {
   "cell_type": "code",
   "execution_count": null,
   "id": "f45c20a2",
   "metadata": {
    "tags": [
     "remove-cell"
    ]
   },
   "outputs": [],
   "source": [
    "\n",
    "obs_mask = ds_obs.copy()\n",
    "obs_mask > -1e20\n",
    "mod_mask = ds_model.copy()\n",
    "mod_mask > -1e20\n",
    "mod_mask * obs_mask\n",
    "mod_mask.run()\n",
    "ds_model * mod_mask\n",
    "ds_obs * mod_mask"
   ]
  },
  {
   "cell_type": "code",
   "execution_count": null,
   "id": "e0cc1567",
   "metadata": {
    "tags": [
     "remove-cell"
    ]
   },
   "outputs": [],
   "source": [
    "chunk_clim"
   ]
  },
  {
   "cell_type": "code",
   "execution_count": null,
   "id": "7bb36d6a",
   "metadata": {
    "tags": [
     "remove-cell"
    ]
   },
   "outputs": [],
   "source": [
    "chunk_bias"
   ]
  },
  {
   "attachments": {},
   "cell_type": "markdown",
   "id": "0aa9db9d",
   "metadata": {},
   "source": [
    "The ability of the model to reproduce seasonality of carbon fluxes is assessed by comparing the modelled and observed seasonal cycle of carbon fluxes. The seasonal cycle is calculated by averaging the monthly values of carbon fluxes over all available model years. The seasonal cycle is calculated for each grid cell. The modelled seasonal cycle is compared to the observed seasonal cycle of carbon fluxes. The observed seasonal cycle is calculated by averaging the observed monthly values of carbon fluxes over all available years. The seasonal cycle is calculated for each grid cell. The modelled seasonal cycle is compared to the observed seasonal cycle using the correlation coefficient between the two. The correlation coefficient is calculated for each grid cell. The correlation coefficient ranges from -1 to 1. A value of 1 indicates a perfect agreement between the modelled and observed seasonal cycle of carbon fluxes. A value of -1 indicates a perfect disagreement between the modelled and observed seasonal cycle of carbon fluxes. A value of 0 indicates no agreement between the modelled and observed seasonal cycle of carbon fluxes."
   ]
  },
  {
   "cell_type": "code",
   "execution_count": null,
   "id": "e4893bf1",
   "metadata": {
    "tags": [
     "remove-cell"
    ]
   },
   "outputs": [],
   "source": [
    "ds1 = ds_model.copy()\n",
    "ds1.cdo_command(\"setname,model\")\n",
    "ds1.run()\n",
    "ds2 = ds_obs.copy()\n",
    "ds2.cdo_command(\"setname,observation\")\n",
    "ds2.run()\n",
    "ds_cor = nc.open_data([ds1.current[0], ds2.current[0]])\n",
    "ds_cor.merge(match=[\"month\"])\n",
    "ds_cor.run()\n",
    "ds_ts = ds_cor.copy()\n",
    "ds_cor.cor_time(\"model\", \"observation\")\n",
    "title = f\"Seasonal temporal correlation between {variable} for model and observations\"\n",
    "ds_cor.run()\n",
    "\n",
    "# output to nc\n",
    "\n",
    "out = f\"../../results/temporals/{variable}_cor.nc\"\n",
    "if not os.path.exists(os.path.dirname(out)):\n",
    "    os.makedirs(os.path.dirname(out))\n",
    "ds_cor.to_nc(out, zip = True, overwrite = True)"
   ]
  },
  {
   "cell_type": "code",
   "execution_count": null,
   "id": "ae09c404",
   "metadata": {
    "tags": [
     "remove-input"
    ]
   },
   "outputs": [],
   "source": [
    "\n",
    "df_cor = ds_cor.to_dataframe().reset_index()\n",
    "# get range of lon and lat without missing values of cor in df_cor\n",
    "plot_cor = ds_cor.pub_plot()"
   ]
  },
  {
   "cell_type": "code",
   "execution_count": null,
   "id": "6a53171b",
   "metadata": {
    "tags": [
     "remove-input"
    ]
   },
   "outputs": [],
   "source": [
    "md(f\"**Figure {i_figure}**: Seasonal temporal correlation between model and observations for \" + variable)\n",
    "i_figure += 1"
   ]
  },
  {
   "attachments": {},
   "cell_type": "markdown",
   "id": "3bed3d6a",
   "metadata": {},
   "source": [
    "## Can the model reproduce long-term changes in sea-air CO2 fluxes? "
   ]
  },
  {
   "cell_type": "code",
   "execution_count": null,
   "id": "eb642105",
   "metadata": {
    "tags": [
     "remove-input"
    ]
   },
   "outputs": [],
   "source": [
    "md(f\"The ability of the model to reproduce the observed long-term changes in {variable} is evaluated by calculating the linear trend of the time series. The trend is calculated for the years {year_range} using annual mean values.\") "
   ]
  },
  {
   "cell_type": "code",
   "execution_count": null,
   "id": "8bc055f5",
   "metadata": {
    "tags": [
     "remove-input"
    ]
   },
   "outputs": [],
   "source": [
    "ds_lt = nc.open_data(ff)\n",
    "ds_lt.tmean(\"year\")\n",
    "ds_lt.cor_time(\"model\", \"observation\")\n",
    "ds_lt.run()\n",
    "plot_ts = ds_lt.pub_plot()"
   ]
  },
  {
   "cell_type": "code",
   "execution_count": null,
   "id": "9558f881",
   "metadata": {
    "tags": [
     "remove-input"
    ]
   },
   "outputs": [],
   "source": [
    "md(f\"**Figure {i_figure}**: The long-term temporal correlation between model and observations for surface carbon fluxes. The long-term correlation is calculated from {year_range} using annual means.\")\n",
    "i_figure += 1"
   ]
  },
  {
   "cell_type": "code",
   "execution_count": null,
   "id": "c6adcbdf",
   "metadata": {
    "tags": [
     "remove-input"
    ]
   },
   "outputs": [],
   "source": [
    "ds_global = nc.open_data(ff)\n",
    "mask_all(ds_global)\n",
    "ds_global.set_fill(-9999)\n",
    "ds_global.tmean(\"year\")\n",
    "#\n",
    "ds_mask = ds_global.copy()\n",
    "ds_mask > -1e20\n",
    "ds_mask.sum_all()\n",
    "ds_mask.tmean()\n",
    "ds_mask == 2\n",
    "ds_mask.run()\n",
    "\n",
    "ds_global * ds_mask\n",
    "ds_global.run()\n",
    "# ds_global\n",
    "ds_global.run()\n",
    "# \n",
    "ds_global.spatial_sum(by_area = True)\n",
    "ds_global / 1e15\n",
    "ds_global * 12\n",
    "# \n",
    "df = (\n",
    "    ds_global.to_dataframe().reset_index()\n",
    "    .assign(year = lambda x: x.time_counter.dt.year)\n",
    "    .loc[:,[\"year\", \"model\", \"observation\"]]\n",
    "    .melt(id_vars = \"year\", var_name = \"source\", value_name = \"flux\")\n",
    ")\n",
    "gg = (\n",
    "    ggplot(df, aes(x = \"year\", y = \"flux\", color = \"source\")) +\n",
    "    geom_line() +\n",
    "    labs(y = \"Oceanic carbon sink (GtC/yr)\", x = \"Year\", color = \"Source\") +\n",
    "    theme_bw()+\n",
    "    theme(legend_position = \"top\")+\n",
    "    labs(colour = \"\")\n",
    "\n",
    ")\n",
    "gg = gg.draw()\n",
    "gg.show()\n"
   ]
  },
  {
   "cell_type": "code",
   "execution_count": null,
   "id": "bed8ad2a",
   "metadata": {
    "tags": [
     "remove-input"
    ]
   },
   "outputs": [],
   "source": [
    "md(f\"**Figure {i_figure}**: Global oceanic carbon sink from model and observations. The sink is calculated from {year_range} using annual means.\") \n",
    "i_figure += 1"
   ]
  },
  {
   "cell_type": "code",
   "execution_count": null,
   "id": "7b14c2dd",
   "metadata": {
    "tags": [
     "remove-input"
    ]
   },
   "outputs": [],
   "source": [
    "md_result , i_figure = ecoval.global_regionals(ds_model, ds_obs, variable, i_figure)"
   ]
  },
  {
   "cell_type": "code",
   "execution_count": null,
   "id": "22a71dfb",
   "metadata": {
    "tags": [
     "remove-input"
    ]
   },
   "outputs": [],
   "source": [
    "md_result"
   ]
  },
  {
   "cell_type": "code",
   "execution_count": null,
   "id": "4ad87f1a",
   "metadata": {
    "tags": [
     "remove-cell"
    ]
   },
   "outputs": [],
   "source": [
    "\n",
    "ds_annual = ds_model.copy()\n",
    "ds_annual.rename({ds_annual.variables[0]: \"model\"})\n",
    "ds_annual.append(ds_obs)\n",
    "ds_annual.tmean()\n",
    "ds_annual.merge(\"variables\")\n",
    "ds_annual.rename({ds_obs.variables[0]: \"observation\"})\n",
    "out_dir = \"../../results/annual_mean/\"\n",
    "if not os.path.exists(out_dir):\n",
    "    os.makedirs(out_dir)\n",
    "out_file = out_dir + f\"annualmean_{variable}.nc\"\n",
    "ds_annual.to_nc(out_file, zip = True, overwrite = True)\n",
    "\n"
   ]
  },
  {
   "cell_type": "code",
   "execution_count": null,
   "id": "82c16f78",
   "metadata": {
    "tags": [
     "remove-cell"
    ]
   },
   "outputs": [],
   "source": [
    "chunk_end"
   ]
  }
 ],
 "metadata": {
  "celltoolbar": "Tags",
  "kernelspec": {
   "display_name": "Python 3 (ipykernel)",
   "language": "python",
   "name": "python3"
  },
  "language_info": {
   "codemirror_mode": {
    "name": "ipython",
    "version": 3
   },
   "file_extension": ".py",
   "mimetype": "text/x-python",
   "name": "python",
   "nbconvert_exporter": "python",
   "pygments_lexer": "ipython3",
   "version": "3.9.16"
  }
 },
 "nbformat": 4,
 "nbformat_minor": 5
}
