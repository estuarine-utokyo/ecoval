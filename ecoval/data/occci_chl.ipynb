{
 "cells": [
  {
   "attachments": {},
   "cell_type": "markdown",
   "id": "9f533356",
   "metadata": {},
   "source": [
    "# Chlorophyll validation using OCCCI data "
   ]
  },
  {
   "cell_type": "code",
   "execution_count": null,
   "id": "58a68d5a",
   "metadata": {
    "tags": [
     "remove-cell"
    ]
   },
   "outputs": [],
   "source": [
    "chunk_start"
   ]
  },
  {
   "cell_type": "code",
   "execution_count": null,
   "id": "7099a8be",
   "metadata": {
    "tags": [
     "remove-cell"
    ]
   },
   "outputs": [],
   "source": [
    "ff = \"../../matched/gridded/occci/occci_model.nc\"\n",
    "ds_model = nc.open_data(ff)\n",
    "mask_all(ds_model)\n",
    "years = set(ds_model.years)\n",
    "year_min = min(years)\n",
    "year_max = max(years)\n",
    "year_range = f\"{year_min}-{year_max}\""
   ]
  },
  {
   "cell_type": "code",
   "execution_count": null,
   "id": "6961293b",
   "metadata": {
    "tags": [
     "remove-input"
    ]
   },
   "outputs": [],
   "source": [
    "md(f\"Chlorophyll was validated using data from the Ocean Colour CCI dataset. The Ocean Colour CCI dataset is a merged dataset of chlorophyll from multiple satellites. The dataset is available from 1997 to 2023. The dataset is available at 4km resolution. The dataset is available from https://esa-oceancolour-cci.org/. We matched up the model for years with complete records in both the model and observational data, resulting in a year range of {year_range}.\") \n",
    "md(f\"Observational data is available at a spatial resolution of 4km. The model data is available at a spatial resolution of 1km. We therefore averaged the model data to 4km resolution to match the observational data. We then matched the model data to the observational data using a nearest neighbour approach. The observational data was regridded to match the model data resolution using bilinear interpolation using the nctoolkit\") \n"
   ]
  },
  {
   "cell_type": "code",
   "execution_count": null,
   "id": "647fa244",
   "metadata": {
    "tags": [
     "remove-input"
    ]
   },
   "outputs": [],
   "source": [
    "ds_model.subset(variable = \"model\")\n",
    "ds_model.tmean(\"month\")\n",
    "ds_model.as_missing(0)\n",
    "ds_model.run()\n",
    "ds_annual = ds_model.copy()\n",
    "ds_annual.tmean()\n",
    "ds_annual.set_longnames({\"model\": \"Chlorophyll-a concentration\"})"
   ]
  },
  {
   "cell_type": "code",
   "execution_count": null,
   "id": "f45c20a2",
   "metadata": {
    "tags": [
     "remove-cell"
    ]
   },
   "outputs": [],
   "source": [
    "ds_obs = nc.open_data(ff)\n",
    "ds_obs.subset(variable = \"observation\")\n",
    "ds_obs.run()\n",
    "ds_obs.tmean(\"month\")\n",
    "ds_obs.as_missing(0)\n",
    "ds_obs.run()\n",
    "\n",
    "obs_mask = ds_obs.copy()\n",
    "obs_mask > -1e20\n",
    "mod_mask = ds_model.copy()\n",
    "mod_mask > -1e20\n",
    "mod_mask * obs_mask\n",
    "mod_mask.run()\n",
    "ds_model * mod_mask\n",
    "ds_obs * mod_mask"
   ]
  },
  {
   "cell_type": "code",
   "execution_count": null,
   "id": "431e3b07",
   "metadata": {},
   "outputs": [],
   "source": [
    "chunk_clim"
   ]
  },
  {
   "cell_type": "code",
   "execution_count": null,
   "id": "61af5b85",
   "metadata": {
    "tags": [
     "remove-cell"
    ]
   },
   "outputs": [],
   "source": [
    "chunk_bias"
   ]
  },
  {
   "attachments": {},
   "cell_type": "markdown",
   "id": "0aa9db9d",
   "metadata": {},
   "source": [
    "## Can the model reproduce seasonality of chlorophyll?\n",
    "\n",
    "The ability of the model to reproduce seasonality of chlorophyll is assessed by comparing the modelled and observed seasonal cycle of chlorophyll. The seasonal cycle is calculated by averaging the monthly values of chlorophyll over all available model years. The seasonal cycle is calculated for each grid cell. The modelled seasonal cycle is compared to the observed seasonal cycle of chlorophyll. The observed seasonal cycle is calculated by averaging the observed monthly values of chlorophyll over all available years. The seasonal cycle is calculated for each grid cell. The modelled seasonal cycle is compared to the observed seasonal cycle using the correlation coefficient between the two. The correlation coefficient is calculated for each grid cell. The correlation coefficient ranges from -1 to 1. A value of 1 indicates a perfect agreement between the modelled and observed seasonal cycle of chlorophyll. A value of -1 indicates a perfect disagreement between the modelled and observed seasonal cycle of chlorophyll. A value of 0 indicates no agreement between the modelled and observed seasonal cycle of chlorophyll. "
   ]
  },
  {
   "cell_type": "code",
   "execution_count": null,
   "id": "e4893bf1",
   "metadata": {
    "tags": [
     "remove-cell"
    ]
   },
   "outputs": [],
   "source": [
    "ds1 = ds_model.copy()\n",
    "ds1.cdo_command(\"setname,model\")\n",
    "ds1.run()\n",
    "ds2 = ds_obs.copy()\n",
    "ds2.cdo_command(\"setname,observation\")\n",
    "ds2.run()\n",
    "ds_cor = nc.open_data([ds1.current[0], ds2.current[0]])\n",
    "ds_cor.merge(match=[\"month\"])\n",
    "ds_cor.run()\n",
    "ds_ts = ds_cor.copy()\n",
    "ds_cor.cor_time(\"model\", \"observation\")\n",
    "title = f\"Seasonal temporal correlation between {variable} for model and observations\"\n",
    "ds_cor.run()\n",
    "\n",
    "\n",
    "# output to nc\n",
    "\n",
    "out = f\"../../results/temporals/{variable}_cor.nc\"\n",
    "if not os.path.exists(os.path.dirname(out)):\n",
    "    os.makedirs(os.path.dirname(out))\n",
    "ds_cor.to_nc(out, zip = True, overwrite = True)"
   ]
  },
  {
   "cell_type": "code",
   "execution_count": null,
   "id": "ae09c404",
   "metadata": {
    "tags": [
     "remove-input"
    ]
   },
   "outputs": [],
   "source": [
    "\n",
    "df_cor = ds_cor.to_dataframe().reset_index()\n",
    "# get range of lon and lat without missing values of cor in df_cor\n",
    "ds_cor.pub_plot()"
   ]
  },
  {
   "cell_type": "code",
   "execution_count": null,
   "id": "6a53171b",
   "metadata": {
    "tags": [
     "remove-input"
    ]
   },
   "outputs": [],
   "source": [
    "md(f\"**Figure {i_figure}**: Seasonal temporal correlation between model and observations for {variable}. The correlation is calculated using the model and observational data for the years {year_range}, with monthly means calculated using all data\") \n",
    "i_figure += 1"
   ]
  },
  {
   "attachments": {},
   "cell_type": "markdown",
   "id": "3bed3d6a",
   "metadata": {},
   "source": [
    "## Can the model reproduce long-term changes in chlorophyll?"
   ]
  },
  {
   "cell_type": "code",
   "execution_count": null,
   "id": "8bc055f5",
   "metadata": {
    "tags": [
     "remove-input"
    ]
   },
   "outputs": [],
   "source": [
    "ds_lt = nc.open_data(ff)\n",
    "mask_all(ds_lt)\n",
    "# mask out missing values\n",
    "ds_mask = ds_lt.copy()\n",
    "ds_mask > -1e20\n",
    "ds_mask.sum_all()\n",
    "ds_mask == 2\n",
    "ds_mask.as_missing(0)\n",
    "ds_lt * ds_mask\n",
    "ds_lt.tmean(\"year\")\n",
    "ds_lt.cor_time(\"model\", \"observation\")\n",
    "ds_lt.run()\n",
    "ds_lt.pub_plot()"
   ]
  },
  {
   "cell_type": "code",
   "execution_count": null,
   "id": "9558f881",
   "metadata": {
    "tags": [
     "remove-input"
    ]
   },
   "outputs": [],
   "source": [
    "md(f\"**Figure {i_figure}**: The temporal correlation between model and observations for chlorophyll-a concentration. The correlation is calculated using the model and observational data for the years {year_range}, with annual means calculated using all data. Only months with data in both the model and observational data are included in the annual mean calculation.\") \n",
    "i_figure += 1"
   ]
  },
  {
   "cell_type": "code",
   "execution_count": null,
   "id": "6daf5bb9",
   "metadata": {
    "tags": [
     "remove-input"
    ]
   },
   "outputs": [],
   "source": [
    "md_result, i_figure = ecoval.global_regionals(ds_model, ds_obs, variable, i_figure)"
   ]
  },
  {
   "cell_type": "code",
   "execution_count": null,
   "id": "9149e42a",
   "metadata": {
    "tags": [
     "remove-input"
    ]
   },
   "outputs": [],
   "source": [
    "md_result"
   ]
  },
  {
   "cell_type": "code",
   "execution_count": null,
   "id": "bcb52c8e",
   "metadata": {
    "tags": [
     "remove-cell"
    ]
   },
   "outputs": [],
   "source": [
    "ds_annual = ds_model.copy()\n",
    "ds_annual.rename({ds_annual.variables[0]: \"model\"})\n",
    "ds_annual.append(ds_obs)\n",
    "ds_annual.tmean()\n",
    "ds_annual.merge(\"variables\")\n",
    "ds_annual.rename({ds_obs.variables[0]: \"observation\"})\n",
    "out_dir = \"../../results/annual_mean/\"\n",
    "if not os.path.exists(out_dir):\n",
    "    os.makedirs(out_dir)\n",
    "out_file = out_dir + f\"annualmean_{variable}.nc\"\n",
    "ds_annual.to_nc(out_file, zip = True, overwrite = True)"
   ]
  },
  {
   "cell_type": "code",
   "execution_count": null,
   "id": "55dee45e",
   "metadata": {
    "tags": [
     "remove-cell"
    ]
   },
   "outputs": [],
   "source": [
    "chunk_end"
   ]
  }
 ],
 "metadata": {
  "celltoolbar": "Tags",
  "kernelspec": {
   "display_name": "Python 3 (ipykernel)",
   "language": "python",
   "name": "python3"
  },
  "language_info": {
   "codemirror_mode": {
    "name": "ipython",
    "version": 3
   },
   "file_extension": ".py",
   "mimetype": "text/x-python",
   "name": "python",
   "nbconvert_exporter": "python",
   "pygments_lexer": "ipython3",
   "version": "3.9.16"
  }
 },
 "nbformat": 4,
 "nbformat_minor": 5
}
