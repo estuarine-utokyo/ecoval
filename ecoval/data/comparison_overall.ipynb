{
 "cells": [
  {
   "cell_type": "markdown",
   "id": "20ea649e",
   "metadata": {},
   "source": [
    "# Overall assessment of relative performance (IN PROGRESS) "
   ]
  },
  {
   "cell_type": "code",
   "execution_count": null,
   "id": "224944b6",
   "metadata": {
    "tags": [
     "remove-cell"
    ]
   },
   "outputs": [],
   "source": [
    "chunk_start"
   ]
  },
  {
   "cell_type": "markdown",
   "id": "ae69d215",
   "metadata": {},
   "source": [
    "Overall model performance was calculated using the following metric. Blah blah \n",
    "\n",
    "$$\\frac{1}{N}\\sum_{i=1}^N \\frac{(o_i - m_i)}{2\\sigma_i^2}  $$"
   ]
  }
 ],
 "metadata": {
  "kernelspec": {
   "display_name": "Python 3",
   "language": "python",
   "name": "python3"
  },
  "language_info": {
   "codemirror_mode": {
    "name": "ipython",
    "version": 3
   },
   "file_extension": ".py",
   "mimetype": "text/x-python",
   "name": "python",
   "nbconvert_exporter": "python",
   "pygments_lexer": "ipython3",
   "version": "3.9.16"
  }
 },
 "nbformat": 4,
 "nbformat_minor": 5
}
