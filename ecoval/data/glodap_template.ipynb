{
 "cells": [
  {
   "attachments": {},
   "cell_type": "markdown",
   "id": "9f533356",
   "metadata": {},
   "source": [
    "# template_title validation using GLODAP"
   ]
  },
  {
   "cell_type": "code",
   "execution_count": null,
   "id": "58a68d5a",
   "metadata": {
    "tags": [
     "remove-cell"
    ]
   },
   "outputs": [],
   "source": [
    "chunk_start"
   ]
  },
  {
   "cell_type": "code",
   "execution_count": null,
   "id": "165557df",
   "metadata": {
    "tags": [
     "remove-cell"
    ]
   },
   "outputs": [],
   "source": [
    "variable = \"template_variable\" \n",
    "Variable = variable.title()"
   ]
  },
  {
   "cell_type": "code",
   "execution_count": null,
   "id": "e0ad73af",
   "metadata": {
    "tags": [
     "remove-cell"
    ]
   },
   "outputs": [],
   "source": [
    "if variable == \"ph\":\n",
    "    Variable = \"pH\"\n",
    "else:   \n",
    "    Variable = variable.upper()"
   ]
  },
  {
   "cell_type": "code",
   "execution_count": null,
   "id": "86703c17",
   "metadata": {
    "tags": [
     "remove-input"
    ]
   },
   "outputs": [],
   "source": [
    "md(f\"{Variable} was validated using the 2016 GLODAP climatology. The GLODAP climatology is a collection of the best available data for the global ocean carbon cycle. The climatology is based on the GLODAPv2 data product, which is described in detail in Olsen et al. (2016). The GLODAPv2 data product is available at https://www.glodap.info/index.php/mapped-data-product/. The GLODAP climatology is available at https://www.glodap.info/glodap-climatology-2016.html. The GLODAP climatology is a collection of the best available data for the global ocean carbon cycle. The climatology is based on the GLODAPv2 data product, which is described in detail in Olsen et al. (2016).\") \n",
    "md(\"Model data was regridded to the spatial resolution of the GLODAP product (1 degree by 1 degree) and then compared to the GLODAP climatology. The GLODAP climatology was interpolated to the model grid using bilinear interpolation. The GLODAP climatology is based on data for the years 1972-2013. The model data was averaged over the same time period. We only considered to sea surface\")"
   ]
  },
  {
   "cell_type": "code",
   "execution_count": null,
   "id": "647fa244",
   "metadata": {
    "tags": [
     "remove-input"
    ]
   },
   "outputs": [],
   "source": [
    "ds_model = nc.open_data(f\"../../matched/gridded/glodap/glodap_{variable.lower()}.nc\")\n",
    "mask_all(ds_model)\n",
    "ds_model.subset(variable = \"model\")\n",
    "ds_model.as_missing(0)\n",
    "ds_model.run()\n",
    "ds_annual = ds_model.copy()\n",
    "ds_annual.tmean()\n",
    "ds_annual.set_longnames({\"model\": Variable})"
   ]
  },
  {
   "cell_type": "code",
   "execution_count": null,
   "id": "8767fb86",
   "metadata": {
    "tags": [
     "remove-input"
    ]
   },
   "outputs": [],
   "source": [
    "ds_obs = nc.open_data(f\"../../matched/gridded/glodap/glodap_{variable.lower()}.nc\")\n",
    "ds_obs.subset(variable = \"observation\")\n",
    "ds_obs.tmean(\"month\")\n",
    "ds_obs.as_missing(0)\n",
    "ds_obs.run()\n",
    "ds_obs.tmean()\n",
    "ds_obs.set_longnames({\"observation\": Variable})"
   ]
  },
  {
   "cell_type": "code",
   "execution_count": null,
   "id": "f45c20a2",
   "metadata": {
    "tags": [
     "remove-cell"
    ]
   },
   "outputs": [],
   "source": [
    "ds_obs = nc.open_data(f\"../../matched/gridded/glodap/glodap_{variable.lower()}.nc\")\n",
    "ds_obs.subset(variable = \"observation\")\n",
    "ds_obs.run()\n",
    "model_units = ds_model.contents.unit.values[0]\n",
    "bad_unit = True\n",
    "obs_units = ds_obs.contents.unit.values[0]\n",
    "\n",
    "\n",
    "ds_obs.regrid(ds_model)\n",
    "ds_obs.run()\n",
    "ds_obs.top()\n",
    "ds_obs.run()\n",
    "obs_mask = ds_obs.copy()\n",
    "obs_mask > -1e20\n",
    "mod_mask = ds_model.copy()\n",
    "mod_mask > -1e20\n",
    "mod_mask * obs_mask\n",
    "mod_mask.run()\n",
    "ds_model * mod_mask\n",
    "ds_obs * mod_mask"
   ]
  },
  {
   "cell_type": "code",
   "execution_count": null,
   "id": "ffd11858",
   "metadata": {
    "tags": [
     "remove-cell"
    ]
   },
   "outputs": [],
   "source": [
    "chunk_clim"
   ]
  },
  {
   "cell_type": "code",
   "execution_count": null,
   "id": "8e894b3d",
   "metadata": {
    "tags": [
     "remove-cell"
    ]
   },
   "outputs": [],
   "source": [
    "chunk_bias"
   ]
  },
  {
   "cell_type": "code",
   "execution_count": null,
   "id": "7fbfd77d",
   "metadata": {
    "tags": [
     "remove-cell"
    ]
   },
   "outputs": [],
   "source": [
    "ds_annual = ds_model.copy()\n",
    "ds_annual.rename({ds_annual.variables[0]: \"model\"})\n",
    "ds_annual.append(ds_obs)\n",
    "ds_annual.tmean()\n",
    "ds_annual.merge(\"variables\")\n",
    "ds_annual.rename({ds_obs.variables[0]: \"observation\"})\n",
    "out_dir = \"../../results/annual_mean/\"\n",
    "if not os.path.exists(out_dir):\n",
    "    os.makedirs(out_dir)\n",
    "out_file = out_dir + f\"annualmean_{variable}.nc\"\n",
    "ds_annual.to_nc(out_file, zip = True, overwrite = True)"
   ]
  },
  {
   "cell_type": "code",
   "execution_count": null,
   "id": "5eec099d",
   "metadata": {
    "tags": [
     "remove-cell"
    ]
   },
   "outputs": [],
   "source": [
    "chunk_end"
   ]
  }
 ],
 "metadata": {
  "celltoolbar": "Tags",
  "kernelspec": {
   "display_name": "Python 3 (ipykernel)",
   "language": "python",
   "name": "python3"
  },
  "language_info": {
   "codemirror_mode": {
    "name": "ipython",
    "version": 3
   },
   "file_extension": ".py",
   "mimetype": "text/x-python",
   "name": "python",
   "nbconvert_exporter": "python",
   "pygments_lexer": "ipython3",
   "version": "3.9.16"
  }
 },
 "nbformat": 4,
 "nbformat_minor": 5
}
