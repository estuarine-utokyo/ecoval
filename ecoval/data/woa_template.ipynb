{
 "cells": [
  {
   "attachments": {},
   "cell_type": "markdown",
   "id": "9f533356",
   "metadata": {},
   "source": [
    "# template_title validation using WOA"
   ]
  },
  {
   "cell_type": "code",
   "execution_count": null,
   "id": "58a68d5a",
   "metadata": {
    "tags": [
     "remove-cell"
    ]
   },
   "outputs": [],
   "source": [
    "chunk_start"
   ]
  },
  {
   "cell_type": "code",
   "execution_count": null,
   "id": "165557df",
   "metadata": {
    "tags": [
     "remove-cell"
    ]
   },
   "outputs": [],
   "source": [
    "variable = \"template_variable\" \n",
    "Variable = variable.title()"
   ]
  },
  {
   "cell_type": "code",
   "execution_count": null,
   "id": "86703c17",
   "metadata": {
    "tags": [
     "remove-input"
    ]
   },
   "outputs": [],
   "source": [
    "md(f\"**Surface {Variable}** was validated using the NOAA World Ocean Atlas 2018 (WOA18) dataset. The WOA18 dataset is a gridded climatology of the global ocean. The WOA18 dataset is available at 1°. The WOA18 dataset is available for download at https://www.nodc.noaa.gov/OC5/woa18/woa18data.html. The WOA18 dataset is used as a reference dataset to validate the {variable} variable from the model.\") \n",
    "md(f\"We only used surface data from the WOA18 dataset to validate the {variable} variable from the {Variable} model. Model data was regridded to the WOA18 grid using bilinear interpolation. The final 20 years of the model run were used for validation.\")"
   ]
  },
  {
   "cell_type": "code",
   "execution_count": null,
   "id": "647fa244",
   "metadata": {
    "tags": [
     "remove-input"
    ]
   },
   "outputs": [],
   "source": [
    "ds_model = nc.open_data(f\"../../matched/woa/woa_{variable}.nc\")\n",
    "mask_all(ds_model)\n",
    "ds_model.subset(variable = \"model\")\n",
    "ds_model.top()\n",
    "ds_model.tmean(\"month\")\n",
    "ds_model.as_missing(0)\n",
    "ds_model.run()\n",
    "ds_annual = ds_model.copy()\n",
    "ds_annual.tmean()\n",
    "ds_annual.set_longnames({\"model\": Variable})"
   ]
  },
  {
   "cell_type": "code",
   "execution_count": null,
   "id": "8767fb86",
   "metadata": {
    "tags": [
     "remove-input"
    ]
   },
   "outputs": [],
   "source": [
    "ds_obs = nc.open_data(f\"../../matched/woa/woa_{variable}.nc\")\n",
    "ds_obs.top()\n",
    "ds_obs.subset(variable = \"observation\")\n",
    "ds_obs.tmean(\"month\")\n",
    "ds_obs.as_missing(0)\n",
    "ds_obs.run()\n",
    "ds_obs.tmean()\n",
    "ds_obs.set_longnames({\"observation\": Variable})"
   ]
  },
  {
   "cell_type": "code",
   "execution_count": null,
   "id": "f45c20a2",
   "metadata": {
    "tags": [
     "remove-cell"
    ]
   },
   "outputs": [],
   "source": [
    "ds_obs = nc.open_data(f\"../../matched/woa/woa_{variable}.nc\")\n",
    "ds_obs.top()\n",
    "ds_obs.subset(variable = \"observation\")\n",
    "ds_obs.run()\n",
    "model_units = ds_model.contents.unit.values[0]\n",
    "bad_unit = True\n",
    "obs_units = ds_obs.contents.unit.values[0]\n",
    "\n",
    "\n",
    "if jellyfish.levenshtein_distance(model_units, obs_units) <= 4:\n",
    "    bad_unit = False\n",
    "\n",
    "if bad_unit:\n",
    "    if variable == \"oxygen\":\n",
    "        obs_units = \"mmol O2/m^3\"\n",
    "    \n",
    "    if jellyfish.levenshtein_distance(model_units, obs_units) <= 4:\n",
    "        bad_unit = False\n",
    "\n",
    "if bad_unit:\n",
    "    if variable == \"oxygen\":\n",
    "        obs_units = \"mmol O2/m**3\"\n",
    "    \n",
    "    if jellyfish.levenshtein_distance(model_units, obs_units) <= 4:\n",
    "        bad_unit = False\n",
    "\n",
    "# temperature is ok. set bad_unit to False\n",
    "# \n",
    "if variable == \"temperature\":\n",
    "    bad_unit = False \n",
    "\n",
    "if bad_unit:\n",
    "    raise ValueError(f\"Unable to match units in ERSEM and NSBC {variable}\")\n",
    "ds_obs.regrid(ds_model)\n",
    "ds_obs.run()\n",
    "ds_obs.top()\n",
    "ds_obs.run()\n",
    "obs_mask = ds_obs.copy()\n",
    "obs_mask > -1e20\n",
    "mod_mask = ds_model.copy()\n",
    "mod_mask > -1e20\n",
    "mod_mask * obs_mask\n",
    "mod_mask.run()\n",
    "ds_model * mod_mask\n",
    "ds_obs * mod_mask"
   ]
  },
  {
   "cell_type": "code",
   "execution_count": null,
   "id": "6d208e5b",
   "metadata": {
    "tags": [
     "remove-cell"
    ]
   },
   "outputs": [],
   "source": [
    "chunk_clim"
   ]
  },
  {
   "cell_type": "code",
   "execution_count": null,
   "id": "409bd5ea",
   "metadata": {
    "tags": [
     "remove-cell"
    ]
   },
   "outputs": [],
   "source": [
    "chunk_bias"
   ]
  },
  {
   "attachments": {},
   "cell_type": "markdown",
   "id": "0aa9db9d",
   "metadata": {},
   "source": [
    "## Can the model reproduce seasonality of template_variable?\n",
    "\n",
    "The ability of the model to reproduce seasonality of template_variable is assessed by comparing the modelled and observed seasonal cycle of template_variable. The seasonal cycle is calculated by averaging the monthly values of template_variable over all available model years. The seasonal cycle is calculated for each grid cell. The modelled seasonal cycle is compared to the observed seasonal cycle of template_variable. The observed seasonal cycle is calculated by averaging the observed monthly values of template_variable over all available years. The seasonal cycle is calculated for each grid cell. The modelled seasonal cycle is compared to the observed seasonal cycle using the correlation coefficient between the two. The correlation coefficient is calculated for each grid cell. The correlation coefficient ranges from -1 to 1. A value of 1 indicates a perfect agreement between the modelled and observed seasonal cycle of template_variable. A value of -1 indicates a perfect disagreement between the modelled and observed seasonal cycle of template_variable. A value of 0 indicates no agreement between the modelled and observed seasonal cycle of template_variable. \n"
   ]
  },
  {
   "cell_type": "code",
   "execution_count": null,
   "id": "e4893bf1",
   "metadata": {
    "tags": [
     "remove-cell"
    ]
   },
   "outputs": [],
   "source": [
    "ds1 = ds_model.copy()\n",
    "ds1.cdo_command(\"setname,model\")\n",
    "ds1.run()\n",
    "ds2 = ds_obs.copy()\n",
    "ds2.cdo_command(\"setname,observation\")\n",
    "ds2.run()\n",
    "ds_cor = nc.open_data([ds1.current[0], ds2.current[0]])\n",
    "ds_cor.merge(match=[\"month\"])\n",
    "ds_cor.run()\n",
    "ds_ts = ds_cor.copy()\n",
    "ds_cor.cor_time(\"model\", \"observation\")\n",
    "title = f\"Seasonal temporal correlation between {variable} for model and observations\"\n",
    "ds_cor.run()\n",
    "\n",
    "\n",
    "# output to nc\n",
    "\n",
    "if variable != \"temperature\":\n",
    "    out = f\"../../results/temporals/{variable}_cor.nc\"\n",
    "    if not os.path.exists(os.path.dirname(out)):\n",
    "        os.makedirs(os.path.dirname(out))\n",
    "    ds_cor.to_nc(out, zip = True, overwrite = True)"
   ]
  },
  {
   "cell_type": "code",
   "execution_count": null,
   "id": "ae09c404",
   "metadata": {
    "tags": [
     "remove-input"
    ]
   },
   "outputs": [],
   "source": [
    "\n",
    "df_cor = ds_cor.to_dataframe().reset_index()\n",
    "ds_cor.pub_plot()"
   ]
  },
  {
   "cell_type": "code",
   "execution_count": null,
   "id": "6a53171b",
   "metadata": {
    "tags": [
     "remove-input"
    ]
   },
   "outputs": [],
   "source": [
    "md(f\"**Figure {i_figure}**: Seasonal temporal correlation between model and observations for \" + variable)\n",
    "i_figure += 1"
   ]
  },
  {
   "cell_type": "code",
   "execution_count": null,
   "id": "22bbcced",
   "metadata": {
    "tags": [
     "remove-input"
    ]
   },
   "outputs": [],
   "source": [
    "md_result, i_figure = ecoval.global_regionals(ds_model, ds_obs, variable, i_figure)"
   ]
  },
  {
   "cell_type": "code",
   "execution_count": null,
   "id": "aef61fef",
   "metadata": {
    "tags": [
     "remove-input"
    ]
   },
   "outputs": [],
   "source": [
    "md_result"
   ]
  },
  {
   "cell_type": "code",
   "execution_count": null,
   "id": "0fe32c1e",
   "metadata": {
    "tags": [
     "remove-cell"
    ]
   },
   "outputs": [],
   "source": [
    "if variable != \"temperature\":\n",
    "    ds_annual = ds_model.copy()\n",
    "    ds_annual.rename({ds_annual.variables[0]: \"model\"})\n",
    "    ds_annual.append(ds_obs)\n",
    "    ds_annual.tmean()\n",
    "    ds_annual.merge(\"variables\")\n",
    "    ds_annual.rename({ds_obs.variables[0]: \"observation\"})\n",
    "    out_dir = \"../../results/annual_mean/\"\n",
    "    if not os.path.exists(out_dir):\n",
    "        os.makedirs(out_dir)\n",
    "    out_file = out_dir + f\"annualmean_{variable}.nc\"\n",
    "    ds_annual.to_nc(out_file, zip = True, overwrite = True)"
   ]
  },
  {
   "cell_type": "code",
   "execution_count": null,
   "id": "fee8f920",
   "metadata": {
    "tags": [
     "remove-cell"
    ]
   },
   "outputs": [],
   "source": [
    "chunk_end"
   ]
  }
 ],
 "metadata": {
  "celltoolbar": "Tags",
  "kernelspec": {
   "display_name": "Python 3 (ipykernel)",
   "language": "python",
   "name": "python3"
  },
  "language_info": {
   "codemirror_mode": {
    "name": "ipython",
    "version": 3
   },
   "file_extension": ".py",
   "mimetype": "text/x-python",
   "name": "python",
   "nbconvert_exporter": "python",
   "pygments_lexer": "ipython3",
   "version": "3.9.16"
  }
 },
 "nbformat": 4,
 "nbformat_minor": 5
}
