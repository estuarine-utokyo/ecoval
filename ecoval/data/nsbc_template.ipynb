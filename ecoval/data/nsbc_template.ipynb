{
 "cells": [
  {
   "attachments": {},
   "cell_type": "markdown",
   "id": "9f533356",
   "metadata": {},
   "source": [
    "# Surface template_title validation using NSBC"
   ]
  },
  {
   "cell_type": "code",
   "execution_count": null,
   "id": "58a68d5a",
   "metadata": {
    "tags": [
     "remove-cell"
    ]
   },
   "outputs": [],
   "source": [
    "chunk_start"
   ]
  },
  {
   "cell_type": "code",
   "execution_count": null,
   "id": "0a87e968",
   "metadata": {
    "tags": [
     "remove-cell"
    ]
   },
   "outputs": [],
   "source": [
    "stamp = nc.session_info[\"stamp\"]\n",
    "out = \".trackers/\" + stamp + \".txt\"\n",
    "if not os.path.exists(\".trackers\"):\n",
    "    os.makedirs(\".trackers\")\n",
    "# save out as empty file\n",
    "with open(out, 'w') as f:\n",
    "    f.write(\"\")"
   ]
  },
  {
   "cell_type": "code",
   "execution_count": null,
   "id": "1d2e31fe",
   "metadata": {
    "tags": [
     "remove-cell"
    ]
   },
   "outputs": [],
   "source": [
    "import numpy as np\n",
    "grid = pd.read_csv(\"/data/proteus1/scratch/rwi/evaldata/matched/model_grid.csv\")\n",
    "lon = grid.loc[:,[x for x in grid.columns if \"lon\" in x]].values\n",
    "lon = np.unique(lon)\n",
    "lon.sort()\n",
    "lat = grid.loc[:,[x for x in grid.columns if \"lat\" in x]].values\n",
    "lat = np.unique(lat)\n",
    "lat.sort()\n",
    "# get unique values in grid and sort them\n",
    "lon = np.unique(lon)\n",
    "lon.sort()\n",
    "lon_res = lon[1] - lon[0]\n",
    "lat_res = lat[1] - lat[0]"
   ]
  },
  {
   "cell_type": "code",
   "execution_count": null,
   "id": "165557df",
   "metadata": {
    "tags": [
     "remove-cell"
    ]
   },
   "outputs": [],
   "source": [
    "variable = \"template_variable\" \n",
    "Variable = variable.title()"
   ]
  },
  {
   "attachments": {},
   "cell_type": "markdown",
   "id": "e6d20026",
   "metadata": {},
   "source": [
    "We used version 1.1 of the **North Sea Biogeochemical Climatology** (NSBC) to validate **sea surface template_variable**. NSBC is a monthly climatology that covers the region 47°-65°N and 15°W-15°E. The data is made up of observations over the period 1960-2014. For validation purposes we only used the level 3 data, which a gridded monthly climatology at a spatial resolution of 1/4°.  The data can be download from [NSBC](https://www.cen.uni-hamburg.de/en/icdc/data/ocean/nsbc.html)."
   ]
  },
  {
   "cell_type": "code",
   "execution_count": null,
   "id": "647fa244",
   "metadata": {
    "tags": [
     "remove-input"
    ]
   },
   "outputs": [],
   "source": [
    "ds_model = nc.open_data(\"../../matched/gridded/nsbc/nsbc_model.nc\")\n",
    "ds_model.set_precision(\"F32\")\n",
    "ds_year = min(ds_model.years)\n",
    "ds_model.set_year(ds_year)\n",
    "ds_times = ds_model.times\n",
    "df_times = pd.DataFrame({\"year\":[x.year for x in ds_times]}).groupby(\"year\").size().reset_index()\n",
    "df_times.columns = [\"year\", \"count\"]\n",
    "years = list(df_times.query(\"count > 1\").year)\n",
    "mask_all(ds_model)\n",
    "ds_model.subset(variable = variable)\n",
    "ds_model.subset(years = years)\n",
    "ds_model.tmean(\"month\")\n",
    "ds_model.as_missing(0)\n",
    "ds_model.run()\n",
    "ds_annual = ds_model.copy()\n",
    "ds_annual.tmean()\n",
    "ds_annual.set_longnames({variable: Variable})"
   ]
  },
  {
   "cell_type": "code",
   "execution_count": null,
   "id": "f45c20a2",
   "metadata": {
    "tags": [
     "remove-cell"
    ]
   },
   "outputs": [],
   "source": [
    "paths = nc.create_ensemble('/data/proteus1/scratch/rwi/evaldata/data/nsbc/level_3')\n",
    "\n",
    "variables = [os.path.basename(x).split(\"_\")[2] for x in paths]\n",
    "nsbc_ensemble = pd.DataFrame({\"path\":paths, \"variable\":variables})\n",
    "nsbc_ensemble[\"match\"]= [jellyfish.levenshtein_distance(x, variable) for x in variables ]\n",
    "match_min = nsbc_ensemble.match.min()\n",
    "nsbc_ensemble = nsbc_ensemble.query(\"match == @match_min\")\n",
    "if \"chlo\" not in variable:\n",
    "    if match_min > 2:\n",
    "        raise ValueError(\"Unable to match variable in ERSEM and NSBC\")\n",
    "    if len(nsbc_ensemble) > 1:\n",
    "        raise ValueError(\"Unable to match variable in ERSEM and NSBC\")\n",
    "nsbc_path = str(nsbc_ensemble.path.values[0])\n",
    "ds_obs = nc.open_data(nsbc_path, checks = False)\n",
    "ds_obs.set_precision(\"F32\")\n",
    "ds_obs.subset(variable = \"*_mean\")\n",
    "ds_obs.run()\n",
    "model_units = ds_model.contents.unit.values[0]\n",
    "obs_units = ds_obs.contents.unit.values[0]\n",
    "matched = True\n",
    "if jellyfish.levenshtein_distance(model_units, obs_units) > 4:\n",
    "    matched = False\n",
    "    # raise ValueError(f\"Unable to match units in ERSEM and NSBC {variable}\")\n",
    "ds_obs.regrid(ds_model)\n",
    "ds_obs.run()\n",
    "ds_obs.top()\n",
    "ds_obs.run()\n",
    "obs_mask = ds_obs.copy()\n",
    "obs_mask > -1e20\n",
    "mod_mask = ds_model.copy()\n",
    "mod_mask > -1e20\n",
    "mod_mask * obs_mask\n",
    "mod_mask.run()\n",
    "ds_model * mod_mask\n",
    "ds_obs * mod_mask"
   ]
  },
  {
   "cell_type": "code",
   "execution_count": null,
   "id": "59499fe5",
   "metadata": {
    "tags": [
     "remove-input"
    ]
   },
   "outputs": [],
   "source": [
    "if not matched:\n",
    "    md(\"Units may not match. Be careful!\")"
   ]
  },
  {
   "cell_type": "code",
   "execution_count": null,
   "id": "c6308613",
   "metadata": {
    "tags": [
     "remove-cell"
    ]
   },
   "outputs": [],
   "source": [
    "chunk_clim"
   ]
  },
  {
   "cell_type": "code",
   "execution_count": null,
   "id": "2b885730",
   "metadata": {
    "tags": [
     "remove-cell"
    ]
   },
   "outputs": [],
   "source": [
    "chunk_bias"
   ]
  },
  {
   "attachments": {},
   "cell_type": "markdown",
   "id": "0aa9db9d",
   "metadata": {},
   "source": [
    "## Can the model reproduce seasonality of template_variable?\n",
    "\n",
    "The ability of the model to reproduce seasonality of template_variable is assessed by comparing the modelled and observed seasonal cycle of template_variable. First, we derive a monthly climatology for the model data. Then, we calculate the Pearson correlation coefficient between the modelled and observed template_variable at each grid cell. The Pearson correlation coefficient is a measure of the linear correlation between two variables. It has a value between -1 and 1, where 1 indicates a perfect positive linear correlation, 0 indicates no linear correlation, and -1 indicates a perfect negative linear correlation. \n",
    "\n",
    "Note: we are only assessing the ability of the model to reproduce the ability of the model to reproduce seasonal changes, not long-term trends.\n"
   ]
  },
  {
   "cell_type": "code",
   "execution_count": null,
   "id": "e4893bf1",
   "metadata": {
    "tags": [
     "remove-cell"
    ]
   },
   "outputs": [],
   "source": [
    "chunk_seasonal"
   ]
  },
  {
   "attachments": {},
   "cell_type": "markdown",
   "id": "528d3c68",
   "metadata": {},
   "source": [
    "## Regional assessment of model performance for template_variable"
   ]
  },
  {
   "attachments": {},
   "cell_type": "markdown",
   "id": "a330779f",
   "metadata": {},
   "source": [
    "We assessed the regional performance of the model by comparing the model with observations from the following regions: Southern North Sea, Central North Sea, Northern North Sea, Channel, Skagerrak, Norwegian Trench, Shetland, Irish Shelf, Irish Sea, Celtic Sea, Armorican, Northern North East Atlantic, Southern North East Atlantic, Shelf, Ocean, Rosa, Locate Shelf, Deep Ocean.\n",
    "\n",
    "The regions considered are mapped below."
   ]
  },
  {
   "cell_type": "code",
   "execution_count": null,
   "id": "95d37725",
   "metadata": {
    "tags": [
     "remove-input"
    ]
   },
   "outputs": [],
   "source": [
    "if regional:\n",
    "    df_mapped = (\n",
    "        ds_regions\n",
    "        .to_dataframe()\n",
    "        .reset_index()\n",
    "        .melt(id_vars = [\"lon\", \"lat\"])\n",
    "        .dropna()\n",
    "        .merge(regions_contents.loc[:,[\"variable\", \"long_name\"]])\n",
    "        .drop(columns = [ \"value\"])\n",
    "    )\n",
    "    bad = [\"Rosa\", \"Locate Shelf\"]\n",
    "    df_mapped = df_mapped.query(\"long_name not in @bad\")\n",
    "    xlim = np.array([df_mapped.lon.min(), df_mapped.lon.max()])\n",
    "    ylim = np.array([df_mapped.lat.min(), df_mapped.lat.max()])\n",
    "    shape = gpd.read_file(\"/data/proteus1/scratch/rwi/evaldata//data/mapping/TM_WORLD_BORDERS-0.3.shp\")\n",
    "\n",
    "    def fix_name(x):\n",
    "        x = x.replace(\"North East\", \"NE\")\n",
    "        x = x.replace(\"North \", \"N \")\n",
    "        if x == \"Channel\":\n",
    "            x = \"English Channel\"\n",
    "        return x\n",
    "\n",
    "    fix_name = np.vectorize(fix_name)\n",
    "\n",
    "\n",
    "    df_mapped.long_name = fix_name(df_mapped.long_name)\n",
    "\n",
    "\n",
    "    gg = (\n",
    "        ggplot( df_mapped)+\n",
    "         geom_tile(aes(x  = \"lon\",y =   \"lat\"))+\n",
    "        geom_map(shape, aes(\"LON\", \"LAT\"), fill = \"grey\", colour = \"grey\")+\n",
    "        coord_cartesian(xlim = xlim, ylim = ylim)+\n",
    "        scale_x_continuous(breaks = [-20, -10, 0, 10], labels = [\"20°W\", \"10°W\", \"0°\", \"10°E\"])+\n",
    "        scale_y_continuous(breaks = [40, 50, 60], labels = [\"40°N\", \"50°N\", \"60°N\"])+\n",
    "        theme_bw(base_size = 10)+\n",
    "        facet_wrap(\"~long_name\")+\n",
    "\n",
    "        theme(axis_title_x=element_blank(),\n",
    "                axis_title_y=element_blank())\n",
    "    )\n",
    "\n",
    "    gg = gg.draw()\n",
    "    gg\n"
   ]
  },
  {
   "cell_type": "code",
   "execution_count": null,
   "id": "4d98248a",
   "metadata": {
    "tags": [
     "remove-input"
    ]
   },
   "outputs": [],
   "source": [
    "if regional:\n",
    "    md(f\"**Figure {i_figure}**: Regions used for validation.\")\n",
    "i_figure += 1"
   ]
  },
  {
   "cell_type": "code",
   "execution_count": null,
   "id": "48b8b492",
   "metadata": {
    "tags": [
     "remove-input"
    ]
   },
   "outputs": [],
   "source": [
    "if regional:\n",
    "    md(\"Time series were constructed comparing the monthly mean of the spatial average template_variable in each region. The spatial average was calculated using the mean of all grid cells within each region, accounting for grid cell area.\")"
   ]
  },
  {
   "cell_type": "code",
   "execution_count": null,
   "id": "16c28508",
   "metadata": {
    "tags": [
     "remove-cell"
    ]
   },
   "outputs": [],
   "source": [
    "if regional:\n",
    "    df_all = []\n",
    "    for vv in ds_regions.variables:\n",
    "        ds_rr = ds_regions.copy()\n",
    "        ds_rr.subset(variable = vv)\n",
    "        ds_rr.run()\n",
    "        ds_vv = ds_ts.copy()\n",
    "        time_name = [x for x in list(ds_vv.to_xarray().coords) if \"time\" in x][0]\n",
    "        ds_vv * ds_rr\n",
    "        ds_region = ds_vv.copy()\n",
    "        ds_vv.spatial_mean()\n",
    "        region = list(regions_contents.query(\"variable == @vv\").long_name)[0]\n",
    "        df_vv = (\n",
    "            ds_vv\n",
    "            .to_dataframe()\n",
    "            .reset_index()\n",
    "            .rename(columns = {time_name: \"time\"})\n",
    "            .loc[:,[\"time\", \"model\", \"observation\"]]\n",
    "            .melt(\"time\")\n",
    "            .assign(month = lambda x: x.time.dt.month)\n",
    "            .assign(region = vv)\n",
    "        )\n",
    "        df_all.append(df_vv)\n",
    "        ds_region.tmean()\n",
    "        df_region = (\n",
    "            ds_region\n",
    "            .to_dataframe()\n",
    "            .dropna()\n",
    "            .reset_index()\n",
    "            .loc[:,[\"model\", \"observation\"]]\n",
    "            .drop_duplicates()\n",
    "        )\n",
    "    \n",
    "        del ds_rr, ds_vv, ds_region\n",
    "    df_all = pd.concat(df_all).dropna()\n",
    "        \n",
    "    df_all = (\n",
    "        df_all\n",
    "        .merge(df_mapped.loc[:,[\"long_name\", \"variable\"]].drop_duplicates().rename(columns = {\"variable\": \"region\"}))\n",
    "    )"
   ]
  },
  {
   "cell_type": "code",
   "execution_count": null,
   "id": "1e077b12",
   "metadata": {
    "tags": [
     "remove-input"
    ]
   },
   "outputs": [],
   "source": [
    "if regional:\n",
    "    ylab = \"Spatial average \" + variable + \" (\"+ nc.static_plot.fix_label(ds_ts.contents.unit[0]) + \")\"\n",
    "    gg = (\n",
    "        ggplot(df_all)+\n",
    "        geom_line(aes(\"month\", \"value\", colour = \"variable\"))+\n",
    "        facet_wrap(\"long_name\")+\n",
    "        labs(y = ylab )+\n",
    "        labs(x = \"Month\")+\n",
    "        theme(legend_position = \"top\")+\n",
    "        scale_color_manual(values = [\"red\", \"blue\"])+\n",
    "        theme_bw(base_size = 10)+\n",
    "        labs(colour = \"\")+\n",
    "        scale_x_continuous(breaks = [1,4, 7, 10], labels = [\"Jan\", \"Apr\", \"Jul\", \"Oct\"]) +\n",
    "        theme(legend_position = \"top\") \n",
    "        \n",
    "    )\n",
    "    \n",
    "    gg = gg.draw()\n",
    "    gg\n"
   ]
  },
  {
   "cell_type": "code",
   "execution_count": null,
   "id": "db278d68",
   "metadata": {
    "tags": [
     "remove-input"
    ]
   },
   "outputs": [],
   "source": [
    "if regional:\n",
    "    md(f\"**Figure {i_figure}**: Seasonal cycle of {variable} for model and observations for each region. The spatial average is taken over the region.\") \n",
    "    i_figure += 1"
   ]
  },
  {
   "cell_type": "code",
   "execution_count": null,
   "id": "f8a92e0c",
   "metadata": {
    "tags": [
     "remove-cell"
    ]
   },
   "outputs": [],
   "source": [
    "chunk_results"
   ]
  },
  {
   "cell_type": "code",
   "execution_count": null,
   "id": "280efcca",
   "metadata": {
    "tags": [
     "remove-cell"
    ]
   },
   "outputs": [],
   "source": [
    "chunk_end"
   ]
  }
 ],
 "metadata": {
  "celltoolbar": "Tags",
  "kernelspec": {
   "display_name": "Python 3 (ipykernel)",
   "language": "python",
   "name": "python3"
  },
  "language_info": {
   "codemirror_mode": {
    "name": "ipython",
    "version": 3
   },
   "file_extension": ".py",
   "mimetype": "text/x-python",
   "name": "python",
   "nbconvert_exporter": "python",
   "pygments_lexer": "ipython3",
   "version": "3.9.16"
  }
 },
 "nbformat": 4,
 "nbformat_minor": 5
}
