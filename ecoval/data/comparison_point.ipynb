{
 "cells": [
  {
   "cell_type": "markdown",
   "id": "20ea649e",
   "metadata": {},
   "source": [
    "## Performance of models against layer point data "
   ]
  },
  {
   "cell_type": "code",
   "execution_count": null,
   "id": "224944b6",
   "metadata": {
    "tags": [
     "remove-cell"
    ]
   },
   "outputs": [],
   "source": [
    "chunk_start"
   ]
  },
  {
   "cell_type": "code",
   "execution_count": null,
   "id": "97aa20f9",
   "metadata": {
    "tags": [
     "remove-input"
    ]
   },
   "outputs": [],
   "source": []
  },
  {
   "cell_type": "code",
   "execution_count": null,
   "id": "bed6f10b",
   "metadata": {
    "tags": [
     "remove-input"
    ]
   },
   "outputs": [],
   "source": [
    "def fix_name(x):\n",
    "    if x == \"benbio\":\n",
    "        return  \"macrobenthic biomass\"\n",
    "    return x"
   ]
  },
  {
   "cell_type": "code",
   "execution_count": null,
   "id": "541270bf",
   "metadata": {
    "tags": [
     "remove-input"
    ]
   },
   "outputs": [],
   "source": [
    "matchup = \"layer\""
   ]
  },
  {
   "cell_type": "code",
   "execution_count": null,
   "id": "abe6c2b7",
   "metadata": {
    "tags": [
     "remove-cell"
    ]
   },
   "outputs": [],
   "source": [
    "# model_dict = {\n",
    "#     \"LOCATE\":\"/data/proteus1/scratch/gle/getmval/locate\",\n",
    "#     \"GETM\":\"/data/proteus1/scratch/rwi/adhoc/getm/3dmn\"\n",
    "# }\n",
    "\n",
    "model_dict = model_dict_str\n",
    "num_models = len(model_dict)"
   ]
  },
  {
   "cell_type": "code",
   "execution_count": null,
   "id": "51ed4b40",
   "metadata": {
    "tags": [
     "remove-input"
    ]
   },
   "outputs": [],
   "source": [
    "# now, figure out which variables are available\n",
    "vars1 = [os.path.basename(x).split(\"_\")[-1].replace(\".csv\", \"\") for x in glob.glob(list(model_dict.values())[0] + f\"/matched/point/**/{matchup}/**/*{matchup}*.csv\")]\n",
    "vars1 = [x for x in vars1 if \"unit\" not in x]\n",
    "vars2 = [os.path.basename(x).split(\"_\")[-1].replace(\".csv\", \"\") for x in glob.glob(list(model_dict.values())[1] + f\"/matched/point/**/{matchup}/**/*{matchup}*.csv\")]\n",
    "vars2 = [x for x in vars2 if \"unit\" not in x]\n",
    "variables= [x for x in vars1 if x in vars2]"
   ]
  },
  {
   "cell_type": "code",
   "execution_count": null,
   "id": "a909ffca",
   "metadata": {
    "tags": [
     "remove-input"
    ]
   },
   "outputs": [],
   "source": [
    "n_show = 0\n",
    "for vv in variables:\n",
    "\n",
    "\n",
    "    i = 0\n",
    "    i_subfigure = 1\n",
    "    for key, value in model_dict.items():\n",
    "        key_path = [x for x in glob.glob(value + f\"/matched/point/**/{matchup}/{vv}/*{matchup}*.csv\") if \"unit\" not in x][0]\n",
    "        if i == 0:\n",
    "            df1 = pd.read_csv(key_path)\n",
    "            valid_columns = [\"lon\", \"lat\", \"year\", \"month\", \"day\", \"depth\"]\n",
    "            valid_columns = [x for x in valid_columns if x in df1.columns]\n",
    "            df1 = df1.groupby(valid_columns).mean().reset_index()\n",
    "            df1 = df1.rename(columns = {\"model\": key})\n",
    "        else:\n",
    "            df2 = pd.read_csv(key_path)\n",
    "            valid_columns = [\"lon\", \"lat\", \"year\", \"month\", \"day\", \"depth\"]\n",
    "            valid_columns = [x for x in valid_columns if x in df2.columns]\n",
    "            df2 = df2.groupby(valid_columns).mean().reset_index()\n",
    "            df2 = df2.rename(columns = {\"model\": key})\n",
    "            df = pd.merge(df1, df2)\n",
    "        i+=1\n",
    "        \n",
    "    if len(df) == 0:\n",
    "        continue\n",
    "    md(f\"## Performance of {matchup} {fix_name(vv)}\")\n",
    "        # melt baseline, predators\n",
    "    valid_columns.append(\"observation\")\n",
    "    df = pd.melt(df, id_vars = valid_columns, var_name = \"model\", value_name = \"value\") \n",
    "\n",
    "    # calculate the r2 for both models\n",
    "    # import r2_score\n",
    "    r2 = df.groupby(\"model\").apply(lambda x: np.corrcoef (x[\"observation\"], x[\"value\"])[0,1]).reset_index() \n",
    "    # turn this into a dictionary\n",
    "    r2 = r2.set_index(\"model\").to_dict()[0]\n",
    "    # round the r2 values to 3 decimal places\n",
    "    r2 = {k:round(v, 3) for k,v in r2.items()}\n",
    "    keys = list(r2.keys())\n",
    "\n",
    "\n",
    "    if vv == \"benbio\":\n",
    "        df[\"observation\"] = df[\"observation\"] * 1000 * 0.45\n",
    "\n",
    "    shape = gpd.read_file(\"/data/proteus1/scratch/rwi/evaldata//data/mapping/TM_WORLD_BORDERS-0.3.shp\")\n",
    "    xlim = [df.lon.min(), df.lon.max()]\n",
    "    ylim = [df.lat.min(), df.lat.max()] \n",
    "\n",
    "    total = len(df)\n",
    "\n",
    "    md(f\"A total of {total} matchups were found for {fix_name(vv)}. The locations of these matchups are shown in the figure below. The x-axis represents the longitude, while the y-axis represents the latitude. The grey background represents the world map.\")\n",
    "\n",
    "    gg = (\n",
    "        ggplot(df)+\n",
    "         geom_point(aes(x  = \"lon\",y =   \"lat\"))+\n",
    "        geom_map(shape, aes(\"LON\", \"LAT\"), fill = \"grey\", colour = \"grey\")+\n",
    "        coord_cartesian(xlim = xlim, ylim = ylim)+\n",
    "        #scale_x_continuous(breaks = [-20, -10, 0, 10], labels = [\"20°W\", \"10°W\", \"0°\", \"10°E\"])+\n",
    "        #scale_y_continuous(breaks = [40, 50, 60], labels = [\"40°N\", \"50°N\", \"60°N\"])+\n",
    "        theme_bw(base_size = 10)+\n",
    "        theme(axis_title_x=element_blank(),\n",
    "                axis_title_y=element_blank())\n",
    "    )\n",
    "    gg.draw()\n",
    "\n",
    "    md(f\"**Figure {i_figure}.{i_subfigure}**. Locations of matchups for {fix_name(vv)}.\")\n",
    "    i_subfigure+=1\n",
    "    \n",
    "    gg = (\n",
    "        ggplot(df,aes(x = \"value\", y = \"observation\")) +\n",
    "        geom_point()+\n",
    "        geom_smooth(method = \"lm\", colour = \"blue\")+\n",
    "        geom_abline(intercept = 0, slope = 1, colour = \"red\")+\n",
    "        facet_wrap(\"~model\", scales = \"free\")+\n",
    "        labs(x = f\"{key} simulation {fix_name(vv)}\", y = f\"Observed {fix_name(vv)}\") \n",
    "    \n",
    "    )\n",
    "\n",
    "    gg.draw()\n",
    "\n",
    "    md(f\"The **correlation coefficient** between the model and observations for the models are as follows: {r2[keys[0]]} for {keys[0]} and {r2[keys[1]]} for {keys[1]}.\")\n",
    "\n",
    "    md(f\"**Figure {i_figure}.{i_subfigure}**. Simulated vs observed {fix_name(vv)}. The red line represents a 1:1 relationship, while the blue line represents the linear regression fit.\")\n",
    "    i_subfigure+=1\n",
    "\n",
    "    df_comp = df1.merge(df2)\n",
    "    x_var = [x for x in df_comp.columns if x not in valid_columns][0]\n",
    "    y_var = [x for x in df_comp.columns if x not in valid_columns][1]\n",
    "    gg = (\n",
    "        ggplot(df_comp, aes(x = x_var, y = y_var))+\n",
    "        geom_point()+\n",
    "        labs(x = f\"{x_var} simulation {fix_name(vv)}\", y = f\"{y_var} {fix_name(vv)}\")+\n",
    "        geom_smooth(method = \"lm\", colour = \"blue\")+\n",
    "        geom_abline(intercept = 0, slope = 1, colour = \"red\")\n",
    "    )\n",
    "\n",
    "    gg.draw()\n",
    "\n",
    "    md(f\"**Figure {i_figure}.{i_subfigure}**. Comparison of {x_var} and {y_var} for {fix_name(vv)} between models. The red line represents a 1:1 relationship, while the blue line represents the linear regression fit.\")\n",
    "    i_subfigure+=1\n",
    "\n",
    "    i_figure+=1\n",
    "    n_show+=1\n",
    "\n",
    "\n",
    "\n",
    "\n",
    "if n_show == 0:\n",
    "    md(\"No matchups were available in both simulations.\")"
   ]
  },
  {
   "cell_type": "code",
   "execution_count": null,
   "id": "f7ba61fe",
   "metadata": {},
   "outputs": [],
   "source": []
  }
 ],
 "metadata": {
  "kernelspec": {
   "display_name": "Python 3",
   "language": "python",
   "name": "python3"
  },
  "language_info": {
   "codemirror_mode": {
    "name": "ipython",
    "version": 3
   },
   "file_extension": ".py",
   "mimetype": "text/x-python",
   "name": "python",
   "nbconvert_exporter": "python",
   "pygments_lexer": "ipython3",
   "version": "3.9.16"
  }
 },
 "nbformat": 4,
 "nbformat_minor": 5
}
