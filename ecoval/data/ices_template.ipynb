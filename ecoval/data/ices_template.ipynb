{
 "cells": [
  {
   "attachments": {},
   "cell_type": "markdown",
   "id": "d2963777",
   "metadata": {},
   "source": [
    "# template_title validation using ICES point observations"
   ]
  },
  {
   "cell_type": "code",
   "execution_count": null,
   "id": "491ce412",
   "metadata": {
    "tags": [
     "remove-cell"
    ]
   },
   "outputs": [],
   "source": [
    "chunk_start\n",
    "from IPython.display import Markdown as md\n",
    "import pandas as pd\n",
    "from plotnine import *\n",
    "import warnings\n",
    "warnings.filterwarnings('ignore')\n",
    "import geopandas as gpd\n",
    "%load_ext rpy2.ipython\n",
    "import numpy as np\n",
    "from mask import mask_all, mask_shelf\n",
    "file = \"template_file_name\"\n",
    "variable = file.split(\"_\")[1].replace(\".csv\", \"\")\n",
    "Variable = variable.capitalize()\n",
    "i_figure = 1"
   ]
  },
  {
   "cell_type": "code",
   "execution_count": null,
   "id": "91a73d4b",
   "metadata": {
    "tags": [
     "remove-input"
    ]
   },
   "outputs": [],
   "source": [
    "md(f\"{Variable} was validated using ICES oceanographic data, which was downloaded from [ICES](https://www.ices.dk/data/data-portals/Pages/ocean.aspx).\")"
   ]
  },
  {
   "attachments": {},
   "cell_type": "markdown",
   "id": "c44fdae6",
   "metadata": {},
   "source": [
    "ICES oceanographic data are available from the ICES Data Centre (https://ocean.ices.dk/HydChem/HydChem.aspx). The data are collected by ICES and ICES member countries and are quality controlled by the ICES Data Centre. This data was collected using a variety of sampling methods and instruments, including CTD and bottles. They are availabled at multiple depths, and we derived depth from pressure in the raw data. The data are available from 1903 to present. The pressure was converted to depth using the Python package [seawater](https://pythonhosted.org/seawater/). Observational data was matched up with model data by regridding the model data to the observational data for each date with model and observational data. These matchups were for both longitude and latitude and depth."
   ]
  },
  {
   "cell_type": "markdown",
   "id": "55f6c0e8",
   "metadata": {
    "tags": [
     "remove-input"
    ]
   },
   "source": [
    "Citation for the ICES dataset should be as follows:\n",
    "\n",
    "**ICES Data Portal, Dataset on Ocean HydroChemistry, Extracted March 3, 2023. ICES, Copenhagen**.\n",
    "\n",
    "The data is a combination of depth-resolved bottle and low- and high-resolution CDT data."
   ]
  },
  {
   "cell_type": "code",
   "execution_count": null,
   "id": "eb9ec3dd",
   "metadata": {
    "tags": [
     "remove-cell"
    ]
   },
   "outputs": [],
   "source": [
    "import numpy as np\n",
    "grid = pd.read_csv(\"../../matched/model_grid.csv\")\n",
    "lon = grid.loc[:,[x for x in grid.columns if \"lon\" in x]].values\n",
    "lon = np.unique(lon)\n",
    "lon.sort()\n",
    "lat = grid.loc[:,[x for x in grid.columns if \"lat\" in x]].values\n",
    "lat = np.unique(lat)\n",
    "lat.sort()\n",
    "# get unique values in grid and sort them\n",
    "lon = np.unique(lon)\n",
    "lon.sort()\n",
    "lon_res = lon[1] - lon[0]\n",
    "lat_res = lat[1] - lat[0]\n",
    "def bin_value(x, bin_res):\n",
    "    return np.floor((x + bin_res / 2) / bin_res + 0.5) * bin_res - bin_res / 2\n",
    "grid_size = len(grid)"
   ]
  },
  {
   "cell_type": "code",
   "execution_count": null,
   "id": "34f42eb2",
   "metadata": {
    "tags": [
     "remove-input"
    ]
   },
   "outputs": [],
   "source": [
    "df = pd.read_csv(file)\n",
    "df_size = df.groupby(\"year\").size().reset_index()\n",
    "df_size.columns = [\"year\", \"n_matches\"]\n",
    "gg = (ggplot( df_size)+\n",
    " geom_col(aes(x = \"year\",  y = \"n_matches\"))+\n",
    " labs(y = \"Number of observations per year\")\n",
    ")\n",
    "\n",
    "gg = gg.draw()\n",
    "gg\n"
   ]
  },
  {
   "cell_type": "code",
   "execution_count": null,
   "id": "1109eed7",
   "metadata": {
    "tags": [
     "remove-input"
    ]
   },
   "outputs": [],
   "source": [
    "md(f\"**Figure {i_figure}**: Number of matchups between ICES point observations and model data for each year\") \n",
    "i_figure += 1"
   ]
  },
  {
   "cell_type": "code",
   "execution_count": null,
   "id": "31ac3f24",
   "metadata": {
    "tags": [
     "remove-input"
    ]
   },
   "outputs": [],
   "source": [
    "df_size = (\n",
    "    df.loc[:,[ \"lon\", \"lat\"]]\n",
    "    .assign(lon = lambda x: bin_value(x.lon, lon_res) )\n",
    "    .assign(lat = lambda x: bin_value(x.lat, lat_res) )\n",
    "    .drop_duplicates()\n",
    ")\n",
    "spatial_coverage = np.round(len(df_size)/grid_size *100, 2)\n",
    "md(f\"In total there are {len(df):,} matchups between the model and observations. In total, the observational data covers {spatial_coverage}% of the model grid.\")"
   ]
  },
  {
   "attachments": {},
   "cell_type": "markdown",
   "id": "9c899f73",
   "metadata": {},
   "source": [
    "Locations with model-observation matchups are shown below."
   ]
  },
  {
   "cell_type": "code",
   "execution_count": null,
   "id": "ca353150",
   "metadata": {
    "tags": [
     "remove-input"
    ]
   },
   "outputs": [],
   "source": [
    "%%capture --no-display\n",
    "xlim = [np.min(df.lon), np.max(df.lon)]\n",
    "ylim = [np.min(df.lat), np.max(df.lat)]\n",
    "shape = gpd.read_file(f\"{data_dir}/mapping/TM_WORLD_BORDERS-0.3.shp\")\n",
    "\n",
    "gg = (\n",
    "    ggplot( df)+\n",
    "     geom_point(aes(x  = \"lon\",y =   \"lat\"), size = 0.1)+\n",
    "    geom_map(shape, aes(\"LON\", \"LAT\"), fill = \"grey\")+\n",
    "    coord_cartesian(xlim = xlim, ylim = ylim)\n",
    ")\n",
    "\n",
    "gg = gg.draw()\n",
    "gg"
   ]
  },
  {
   "cell_type": "code",
   "execution_count": null,
   "id": "57074f19",
   "metadata": {
    "tags": [
     "remove-input"
    ]
   },
   "outputs": [],
   "source": [
    "md(f\"**Figure {i_figure}**: The spatial locations of the matchups between the model and observations for {variable}.\") \n",
    "i_figure += 1"
   ]
  },
  {
   "cell_type": "code",
   "execution_count": null,
   "id": "9834cb6c",
   "metadata": {
    "tags": [
     "remove-input"
    ]
   },
   "outputs": [],
   "source": [
    "%%capture --no-display\n",
    "gg = (ggplot( df)+\n",
    " geom_point(aes(x  = \"model\",y =   \"observation\"), size = 0.1)\n",
    ")\n",
    "\n",
    "gg = gg.draw()\n",
    "gg\n"
   ]
  },
  {
   "cell_type": "code",
   "execution_count": null,
   "id": "6d7639b2",
   "metadata": {
    "tags": [
     "remove-input"
    ]
   },
   "outputs": [],
   "source": [
    "md(f\"**Figure {i_figure}**: Scatter plot of modelled vs observed {variable}.\")\n",
    "i_figure += 1"
   ]
  },
  {
   "cell_type": "code",
   "execution_count": null,
   "id": "e353066d",
   "metadata": {
    "tags": [
     "remove-cell"
    ]
   },
   "outputs": [],
   "source": [
    "chunk_end"
   ]
  }
 ],
 "metadata": {
  "celltoolbar": "Tags",
  "kernelspec": {
   "display_name": "Python 3 (ipykernel)",
   "language": "python",
   "name": "python3"
  },
  "language_info": {
   "codemirror_mode": {
    "name": "ipython",
    "version": 3
   },
   "file_extension": ".py",
   "mimetype": "text/x-python",
   "name": "python",
   "nbconvert_exporter": "python",
   "pygments_lexer": "ipython3",
   "version": "3.9.16"
  }
 },
 "nbformat": 4,
 "nbformat_minor": 5
}
