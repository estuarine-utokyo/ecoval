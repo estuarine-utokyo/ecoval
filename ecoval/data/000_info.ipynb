{
 "cells": [
  {
   "attachments": {},
   "cell_type": "markdown",
   "id": "d2963777",
   "metadata": {},
   "source": [
    "# Model run information "
   ]
  },
  {
   "cell_type": "code",
   "execution_count": null,
   "id": "491ce412",
   "metadata": {
    "tags": [
     "remove-cell"
    ]
   },
   "outputs": [],
   "source": [
    "chunk_start\n",
    "import glob"
   ]
  },
  {
   "cell_type": "code",
   "execution_count": null,
   "id": "a1acbbcf",
   "metadata": {
    "tags": [
     "remove-cell"
    ]
   },
   "outputs": [],
   "source": [
    "df_map = pd.read_csv(\"../../matched/mapping.csv\").dropna().reset_index(drop=True)\n",
    "df_map = df_map.groupby(\"pattern\").head(1).reset_index(drop=True)\n",
    "# nc_dates = []\n",
    "for mm in df_map.model_variable:\n",
    "    mm_pattern = df_map.query(\"model_variable == @mm\").pattern.values[0]\n",
    "    mm_paths = glob.glob(mm_pattern)\n",
    "#     time_name = None\n",
    "    for ff in tqdm(mm_paths):\n",
    "        break\n",
    "    break\n",
    "#         ds = xr.open_dataset(ff)\n",
    "#         if time_name is None:\n",
    "#             time_name = [x for x in list(ds.dims) if \"time\" in x][0]\n",
    "#         nc_dates += list(ds[time_name].values)"
   ]
  },
  {
   "cell_type": "code",
   "execution_count": null,
   "id": "fa1fc5d4",
   "metadata": {
    "tags": [
     "remove-cell"
    ]
   },
   "outputs": [],
   "source": [
    "ds = nc.open_data(ff, checks = False)\n",
    "amm7 = False\n",
    "if ds.contents.npoints.max() == 111375:\n",
    "    if ds.contents.nlevels.max() == 51:\n",
    "        amm7 = True\n",
    "# nc_dates = sorted(nc_dates)\n",
    "# start = nc_dates[0]\n",
    "# end = nc_dates[-1]"
   ]
  },
  {
   "cell_type": "code",
   "execution_count": null,
   "id": "612dc1d5",
   "metadata": {
    "tags": [
     "remove-cell"
    ]
   },
   "outputs": [],
   "source": [
    "def ordinal(n: int):\n",
    "    if 11 <= (n % 100) <= 13:\n",
    "        suffix = 'th'\n",
    "    else:\n",
    "        suffix = ['th', 'st', 'nd', 'rd', 'th'][min(n % 10, 4)]\n",
    "    return str(n) + suffix"
   ]
  },
  {
   "cell_type": "code",
   "execution_count": null,
   "id": "98cbffdf",
   "metadata": {
    "tags": [
     "remove-cell"
    ]
   },
   "outputs": [],
   "source": [
    "if False:\n",
    "    from datetime import date\n",
    "    def get_date(start):\n",
    "        day = pd.to_datetime(start).day\n",
    "        month = pd.to_datetime(start).month\n",
    "        year = pd.to_datetime(start).year\n",
    "        tidied =  date(day = day, month = month, year = year).strftime('%d %B %Y')\n",
    "        tidied = tidied.split(\" \")\n",
    "        tidied[0] = ordinal(int(tidied[0]))\n",
    "        # add of\n",
    "        tidied.insert(1, \"of\")\n",
    "        return \" \".join(tidied)\n",
    "    \n",
    "    start = get_date(start)\n",
    "    end = get_date(end)"
   ]
  },
  {
   "cell_type": "code",
   "execution_count": null,
   "id": "6f28dc3e",
   "metadata": {
    "tags": [
     "remove-cell"
    ]
   },
   "outputs": [],
   "source": [
    "model_description = \"For the purpose of our study we use the 3-D coupled hydrodynamic-biogeochemical modeling system NEMO-FABM-ERSEM configured on the Atlantic Meridional Margin (AMM7) domain, which is based on an update of Edwards et al. (2012). The geographical domain extends from 20°W to 13°E and 40°N to 65°N (Figure 1), and has a horizontal resolution of 1/15° in latitudinal and 1/9° in longitudinal direction, corresponding to ~7 km. Vertically, the model resolution was improved to 50 σ-z layers, from the original 32, and has a minimum bathymetry of 10 m. In areas of steep bathymetry change the total number of layers is decreased to reduce spurious vertical transport.\"\n",
    "# paragraph_2 = f\"The model simulation began on **{start}** and ended on **{end}**.\""
   ]
  },
  {
   "cell_type": "code",
   "execution_count": null,
   "id": "e2aa7f79",
   "metadata": {
    "tags": [
     "remove-input"
    ]
   },
   "outputs": [],
   "source": [
    "if amm7:\n",
    "    md(model_description)\n",
    "# md(paragraph_2)"
   ]
  },
  {
   "cell_type": "code",
   "execution_count": null,
   "id": "7e75f69e",
   "metadata": {
    "tags": [
     "remove-input"
    ]
   },
   "outputs": [],
   "source": [
    "if amm7:\n",
    "    ersem_jpeg = f\"{data_dir}/ERSEM.png\"\n",
    "    from IPython.display import Image\n",
    "    Image(filename=ersem_jpeg, width=500)\n",
    "    md(f\"**Figure {chapter}{i_figure}**: ERSEM schematic showing how model components interact with or influence each other. Blue connectors represent inorganic carbon fluxes, red represents nutrient fluxes, yellow represents oxygen, black represents predator–prey interactions, and green represents fluxes of non-living organics. Dashed arrows indicate the influence of carbonate system variables.\") \n",
    "    i_figure += 1\n"
   ]
  },
  {
   "cell_type": "code",
   "execution_count": null,
   "id": "cf14d458",
   "metadata": {
    "tags": [
     "remove-input"
    ]
   },
   "outputs": [],
   "source": [
    "%%capture --no-display\n",
    "if amm7:\n",
    "    ds_bath = nc.open_data(f\"{data_dir}/amm7_bath.nc\")\n",
    "    ds_bath.subset(variables = \"Bathymetry\")\n",
    "    ds_bath.set_longnames({\"Bathymetry\":\"Bathymetry\"})\n",
    "    ds_bath.set_units({\"Bathymetry\":\"m\"})\n",
    "    ds_bath.pub_plot(colours = cm.cm.deep, land = \"grey\")\n",
    "\n",
    "\n"
   ]
  },
  {
   "cell_type": "code",
   "execution_count": null,
   "id": "0cdda4d3",
   "metadata": {
    "tags": [
     "remove-cell"
    ]
   },
   "outputs": [],
   "source": [
    "lon = ds_bath.to_xarray().lon\n",
    "lat = ds_bath.to_xarray().lat\n",
    "lon_min = int(np.rint(lon.min()))\n",
    "lon_max = int(np.rint(lon.max()))\n",
    "lat_min = int(np.rint(lat.min()))\n",
    "lat_max = int(np.rint(lat.max()))\n",
    "\n",
    "\n",
    "\n"
   ]
  },
  {
   "cell_type": "code",
   "execution_count": null,
   "id": "64e806be",
   "metadata": {
    "tags": [
     "remove-input"
    ]
   },
   "outputs": [],
   "source": [
    "if amm7:\n",
    "    md(f\"**Figure {chapter}{i_figure}**: Bathymetry of the AMM7 model domain. The model domain extends from {lon_min}° to {lon_max}° longitude and {lat_min}° to {lat_max}° latitude.\")\n",
    "    i_figure += 1"
   ]
  }
 ],
 "metadata": {
  "celltoolbar": "Tags",
  "kernelspec": {
   "display_name": "Python 3 (ipykernel)",
   "language": "python",
   "name": "python3"
  },
  "language_info": {
   "codemirror_mode": {
    "name": "ipython",
    "version": 3
   },
   "file_extension": ".py",
   "mimetype": "text/x-python",
   "name": "python",
   "nbconvert_exporter": "python",
   "pygments_lexer": "ipython3",
   "version": "3.9.16"
  }
 },
 "nbformat": 4,
 "nbformat_minor": 5
}
