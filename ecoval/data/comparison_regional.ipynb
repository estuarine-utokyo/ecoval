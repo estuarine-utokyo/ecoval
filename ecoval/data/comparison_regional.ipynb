{
 "cells": [
  {
   "cell_type": "markdown",
   "id": "20ea649e",
   "metadata": {},
   "source": [
    "## Ability of models to reproduce regional patterns"
   ]
  },
  {
   "cell_type": "code",
   "execution_count": null,
   "id": "224944b6",
   "metadata": {
    "tags": [
     "remove-cell"
    ]
   },
   "outputs": [],
   "source": [
    "chunk_start"
   ]
  },
  {
   "cell_type": "markdown",
   "id": "028b0b6f",
   "metadata": {},
   "source": [
    "**Note**: These comparisons are only exact when the model grids are identical. Otherwise, the comparisons are based on the overlap between the model grids and the region of interest, and the results may not be totally comparable."
   ]
  },
  {
   "cell_type": "code",
   "execution_count": null,
   "id": "abe6c2b7",
   "metadata": {
    "tags": [
     "remove-cell"
    ]
   },
   "outputs": [],
   "source": [
    "# model_dict = {\n",
    "#     \"LOCATE\":\"/data/proteus1/scratch/gle/getmval/locate\",\n",
    "#     \"GETM\":\"/data/proteus1/scratch/rwi/adhoc/getm/3dmn\"\n",
    "# }\n",
    "\n",
    "model_dict = model_dict_str\n",
    "num_models = len(model_dict)"
   ]
  },
  {
   "cell_type": "code",
   "execution_count": null,
   "id": "911df3e5",
   "metadata": {
    "tags": [
     "remove-input"
    ]
   },
   "outputs": [],
   "source": [
    "# step 1 is to figure out the variables available\n",
    "variables = []\n",
    "for dir_name in list(model_dict.values()):\n",
    "    variables += [os.path.basename(x).split(\"_\")[1] for x in glob.glob(dir_name + \"/results/regionals/*_*_regionals.csv\")]\n",
    "\n",
    "# restrict variables to those that occur twice\n",
    "variables = list(set([x for x in variables if variables.count(x) == 2]))\n"
   ]
  },
  {
   "cell_type": "code",
   "execution_count": null,
   "id": "a918b9a2",
   "metadata": {
    "tags": [
     "remove-input"
    ]
   },
   "outputs": [],
   "source": [
    "\n",
    "for vv in variables:\n",
    "  try:\n",
    "    df1 = pd.read_csv(glob.glob(model_dict[list(model_dict.keys())[0]] + \"/results/regionals/nsbc_\" + vv + \"_regionals.csv\")[0])\n",
    "    key = list(model_dict.keys())[0]\n",
    "    # change model to key in variable\n",
    "    df1[\"variable\"] = [x if x != \"model\" else key for x in df1[\"variable\"]]\n",
    "\n",
    "    df2 = pd.read_csv(glob.glob(model_dict[list(model_dict.keys())[1]] + \"/results/regionals/nsbc_\" + vv + \"_regionals.csv\")[0])\n",
    "    key = list(model_dict.keys())[1]\n",
    "    # change model to key in variable\n",
    "    df2[\"variable\"] = [x if x != \"model\" else key for x in df2[\"variable\"]]\n",
    "    df = pd.concat([df1, df2])\n",
    "    df = df.dropna()\n",
    "    df = df.loc[:,[\"variable\", \"value\", \"month\", \"long_name\"]]\n",
    "    df = df.groupby([\"variable\", \"month\", \"long_name\"]).mean().reset_index()\n",
    "    # change month to month name\n",
    "    md(f\"## Can the model reproduce regional {vv}?\")\n",
    "    (\n",
    "        ggplot(df)+\n",
    "        geom_line(aes(x = \"month\", y = \"value\", color = \"variable\"))+\n",
    "        facet_wrap(\"long_name\", scales = \"free\")+\n",
    "        # legend at the top\n",
    "        # drop the legend name\n",
    "        # theme_bw()+\n",
    "        theme(legend_title = element_blank())+\n",
    "        theme(legend_position = \"top\")+\n",
    "        expand_limits(y = 0)+\n",
    "        # suitable breaks for months\n",
    "        scale_x_continuous(breaks = [2, 4, 6, 8, 10, 12 ], labels = [\"Feb\", \"Apr\", \"Jun\", \"Aug\", \"Oct\", \"Dec\"])+ \n",
    "        # rotate the x-axis labels\n",
    "          theme(axis_text_x = element_text(angle = 45))+\n",
    "        labs(y = vv, x = \"Month\")\n",
    "    )\n",
    "    md(f\"**Figure {i_figure}**. Spatial average {vv} for each model in each region. The values shown are monthly climatologies.\")\n",
    "    i_figure = i_figure + 1\n",
    "  except:\n",
    "    pass"
   ]
  }
 ],
 "metadata": {
  "kernelspec": {
   "display_name": "Python 3",
   "language": "python",
   "name": "python3"
  },
  "language_info": {
   "codemirror_mode": {
    "name": "ipython",
    "version": 3
   },
   "file_extension": ".py",
   "mimetype": "text/x-python",
   "name": "python",
   "nbconvert_exporter": "python",
   "pygments_lexer": "ipython3",
   "version": "3.9.16"
  }
 },
 "nbformat": 4,
 "nbformat_minor": 5
}
